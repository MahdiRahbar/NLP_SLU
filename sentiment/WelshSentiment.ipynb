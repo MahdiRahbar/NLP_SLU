{
  "cells": [
    {
      "cell_type": "markdown",
      "metadata": {
        "colab_type": "text",
        "id": "view-in-github"
      },
      "source": [
        "<a href=\"https://colab.research.google.com/github/MahdiRahbar/NLP_SLU/blob/main/sentiment/WelshSentiment.ipynb\" target=\"_parent\"><img src=\"https://colab.research.google.com/assets/colab-badge.svg\" alt=\"Open In Colab\"/></a>"
      ]
    },
    {
      "cell_type": "code",
      "execution_count": 1,
      "metadata": {
        "id": "44XAmeUWJ--p"
      },
      "outputs": [],
      "source": [
        "import random\n",
        "import math"
      ]
    },
    {
      "cell_type": "code",
      "execution_count": 40,
      "metadata": {},
      "outputs": [],
      "source": [
        "import os\n",
        "import re\n",
        "fn = os.path.join(\"..\",\"data\",\"train-v2.tsv\")\n",
        "handle = open(fn, \"r\")\n",
        "res = list()\n",
        "tweets = list()\n",
        "for i in handle:\n",
        "    entry = i.strip().split(\"\\t\")\n",
        "    res.append(int(entry[0]))\n",
        "    tweets.append(entry[1])"
      ]
    },
    {
      "cell_type": "code",
      "execution_count": 45,
      "metadata": {},
      "outputs": [
        {
          "data": {
            "text/plain": [
              "'@USER ahaha, aino maisho mynadd! Erm o be dwin wbod ia, dwnim ddo! You know how he isss'"
            ]
          },
          "execution_count": 45,
          "metadata": {},
          "output_type": "execute_result"
        }
      ],
      "source": [
        "from collections import defaultdict\n",
        "class NaiveBayes():\n",
        "    def __init__(self,xVec,yVec,vocabs):\n",
        "        self.xVec = xVec\n",
        "        self.yVec = yVec\n",
        "        self.vocabs = vocabs\n",
        "        self.by_class = defaultdict(list)\n",
        "        self.wordlist_by_class = defaultdict(defaultdict(int))\n",
        "        self.prior_prob = defaultdict(float)\n",
        "        self.likelihood = defaultdict(defaultdict(int))\n",
        "    def sep_by_class(self):\n",
        "        # assuming no missing data len(xVec) == len(yVec).\n",
        "        for i in range(len(self.yVec)):\n",
        "            self.by_class[self.yVec[i]].append( self.by_class[self.xVec[i]] ) #separating tweets into 0 or 1 class\n",
        "            for word in self.yVec:\n",
        "                self.wordlist_by_class[self.yVec[i]][word] +=1\n",
        "    def train_bayes(self, smoothing = None):\n",
        "        for i in self.by_class:\n",
        "            self.prior_prob[i] = math.log( len(self.by_class[i])/len(self.yVec) ) #calculate prior\n",
        "            \n",
        "            for word in self.vocabs: \n",
        "                # calculate likelihood\n",
        "                self.likelihood[word][i] = math.log(self.word_list_by_class[i][word]/self.vocabs[word])\n",
        "\n",
        "            \n"
      ]
    },
    {
      "cell_type": "code",
      "execution_count": null,
      "metadata": {
        "id": "1CmrgFtVJ--t"
      },
      "outputs": [],
      "source": [
        "# this should return either 0 (negative sentiment) or 1 (positive sentiment)\n",
        "\n",
        "def predict_from_scratch(tweet):\n",
        "  return"
      ]
    },
    {
      "cell_type": "code",
      "execution_count": null,
      "metadata": {
        "id": "_UPXq_SdJ--u"
      },
      "outputs": [],
      "source": [
        "# this should return either 0 (negative sentiment) or 1 (positive sentiment)\n",
        "def predict_anything_goes(tweet):\n",
        "  # do something complicated here\n",
        "  return random.randint(0,1)"
      ]
    },
    {
      "cell_type": "code",
      "execution_count": null,
      "metadata": {
        "id": "xGmPR8pmJ--u"
      },
      "outputs": [],
      "source": [
        "def evaluate():\n",
        "  total = 0\n",
        "  correct_from_scratch = 0\n",
        "  correct_anything_goes = 0\n",
        "  testfile = open('test.tsv', 'r')\n",
        "  for line in testfile:\n",
        "    total += 1\n",
        "    pieces = line.rstrip(\"\\n\").split(\"\\t\")\n",
        "    if predict_from_scratch(pieces[1]) == int(pieces[0]):\n",
        "      correct_from_scratch += 1\n",
        "    if predict_anything_goes(pieces[1]) == int(pieces[0]):\n",
        "      correct_anything_goes += 1\n",
        "  return (correct_from_scratch/total, correct_anything_goes/total)\n",
        "  "
      ]
    },
    {
      "cell_type": "code",
      "execution_count": null,
      "metadata": {
        "id": "HNuZwhmFJ--v",
        "outputId": "efced462-d5ba-44f0-afa0-6fe235193587"
      },
      "outputs": [
        {
          "data": {
            "text/plain": [
              "(0.5096, 0.4987)"
            ]
          },
          "execution_count": 5,
          "metadata": {},
          "output_type": "execute_result"
        }
      ],
      "source": [
        "evaluate()"
      ]
    }
  ],
  "metadata": {
    "colab": {
      "include_colab_link": true,
      "provenance": []
    },
    "kernelspec": {
      "display_name": "Python 3.9.5 64-bit",
      "language": "python",
      "name": "python3"
    },
    "language_info": {
      "codemirror_mode": {
        "name": "ipython",
        "version": 3
      },
      "file_extension": ".py",
      "mimetype": "text/x-python",
      "name": "python",
      "nbconvert_exporter": "python",
      "pygments_lexer": "ipython3",
      "version": "3.9.5"
    },
    "vscode": {
      "interpreter": {
        "hash": "aee8b7b246df8f9039afb4144a1f6fd8d2ca17a180786b69acc140d282b71a49"
      }
    }
  },
  "nbformat": 4,
  "nbformat_minor": 0
}
