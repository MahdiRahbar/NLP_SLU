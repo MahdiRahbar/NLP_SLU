{
 "cells": [
  {
   "cell_type": "code",
   "execution_count": 21,
   "id": "7d26d38a",
   "metadata": {},
   "outputs": [],
   "source": [
    "import re\n",
    "import os \n",
    "import sys\n",
    "import numpy as np \n",
    "import time\n",
    "import random"
   ]
  },
  {
   "cell_type": "code",
   "execution_count": 22,
   "id": "0a3d78f6",
   "metadata": {},
   "outputs": [],
   "source": [
    "lang  = 'cwe' # 'sw'\n",
    "cwe = open(os.path.join('data',lang+'-train.txt'), 'r').read().lower()"
   ]
  },
  {
   "cell_type": "code",
   "execution_count": 23,
   "id": "9b04f61d",
   "metadata": {},
   "outputs": [],
   "source": [
    "chars = ' !\"\\'(),-.0123456789:;?abcdefghijklmnopqrstuvwxyz'"
   ]
  },
  {
   "cell_type": "code",
   "execution_count": 24,
   "id": "dd63edf4",
   "metadata": {},
   "outputs": [],
   "source": [
    "character_list = re.findall(r\"[%s]\"%chars, cwe)"
   ]
  },
  {
   "cell_type": "markdown",
   "id": "048cae14",
   "metadata": {},
   "source": [
    "##  \n",
    "https://towardsdatascience.com/text-generation-using-n-gram-model-8d12d9802aa0\n",
    "https://towardsdatascience.com/text-generation-using-n-gram-model-8d12d9802aa0"
   ]
  },
  {
   "cell_type": "code",
   "execution_count": 25,
   "id": "c1bfadfd",
   "metadata": {},
   "outputs": [],
   "source": [
    "\n",
    "def tokenize(text: str) -> list[str]:\n",
    "    \"\"\"\n",
    "    :param text: Takes input sentence\n",
    "    :return: tokenized sentence\n",
    "    \"\"\"\n",
    "    for punct in string.punctuation:\n",
    "        text = text.replace(punct, ' '+punct+' ')\n",
    "    t = text.split()\n",
    "    return t\n",
    "\n",
    "def get_ngrams(n: int, tokens: list) -> list:\n",
    "    \"\"\"\n",
    "    :param n: n-gram size\n",
    "    :param tokens: tokenized sentence\n",
    "    :return: list of ngrams\n",
    "    ngrams of tuple form: ((previous wordS!), target word)\n",
    "    \"\"\"\n",
    "    tokens = (n-1)*['<START>']+tokens\n",
    "    l = [(tuple([tokens[i-p-1] for p in reversed(range(n-1))]), tokens[i]) for i in range(n-1, len(tokens))]\n",
    "    return l"
   ]
  },
  {
   "cell_type": "code",
   "execution_count": 26,
   "id": "d01fbf25",
   "metadata": {},
   "outputs": [],
   "source": [
    "class NgramModel(object):\n",
    "\n",
    "    def __init__(self, n):\n",
    "        self.n = n\n",
    "\n",
    "        # dictionary that keeps list of candidate words given context\n",
    "        self.context = {}\n",
    "\n",
    "        # keeps track of how many times ngram has appeared in the text before\n",
    "        self.ngram_counter = {}\n",
    "\n",
    "    def update(self, sentence: str) -> None:\n",
    "        \"\"\"\n",
    "        Updates Language Model\n",
    "        :param sentence: input text\n",
    "        \"\"\"\n",
    "        n = self.n\n",
    "        ngrams = get_ngrams(n, sentence)\n",
    "        for ngram in ngrams:\n",
    "            if ngram in self.ngram_counter:\n",
    "                self.ngram_counter[ngram] += 1.0\n",
    "            else:\n",
    "                self.ngram_counter[ngram] = 1.0\n",
    "\n",
    "            prev_words, target_word = ngram\n",
    "            if prev_words in self.context:\n",
    "                self.context[prev_words].append(target_word)\n",
    "            else:\n",
    "                self.context[prev_words] = [target_word]\n",
    "                \n",
    "    def prob(self, context, token):\n",
    "        \"\"\"\n",
    "        Calculates probability of a candidate token to be generated given a context\n",
    "        :return: conditional probability\n",
    "        \"\"\"\n",
    "        try:\n",
    "            count_of_token = self.ngram_counter[(context, token)]\n",
    "            count_of_context = float(len(self.context[context]))\n",
    "            result = count_of_token / count_of_context\n",
    "\n",
    "        except KeyError:\n",
    "            result = 0.0\n",
    "        return result\n",
    "    \n",
    "    def random_token(self, context):\n",
    "        \"\"\"\n",
    "        Given a context we \"semi-randomly\" select the next word to append in a sequence\n",
    "        :param context:\n",
    "        :return:\n",
    "        \"\"\"\n",
    "        r = random.random()\n",
    "        map_to_probs = {}\n",
    "        token_of_interest = self.context[context] # this can be all the tokens \n",
    "        temp_prob_list = []\n",
    "        for token in token_of_interest:\n",
    "            map_to_probs[token] = self.prob(context, token)\n",
    "#         print(map_to_probs)\n",
    "\n",
    "        summ = 0\n",
    "        for token in sorted(map_to_probs):\n",
    "            summ += map_to_probs[token]\n",
    "#             print(map_to_probs[token])\n",
    "#             print(summ)\n",
    "            if summ > r:\n",
    "                return token\n",
    "            \n",
    "\n",
    "    def generate_text(self, token_count: int, history):\n",
    "        \"\"\"\n",
    "        :param token_count: number of words to be produced\n",
    "        :return: generated text\n",
    "        \"\"\"\n",
    "        if type(history)==str:\n",
    "            history = list(history)\n",
    "        n = self.n\n",
    "#         context_queue = (n - len(history) -1 ) * ['<START>'] + list(history)\n",
    "        context_queue = (n -1 ) * ['<START>'] \n",
    "\n",
    "        result = []\n",
    "        for _ in range(token_count):\n",
    "            obj = self.random_token(tuple(context_queue))\n",
    "            result.append(obj)\n",
    "            if n > 1:\n",
    "                context_queue.pop(0)\n",
    "                if obj == '.':\n",
    "                    context_queue = (n - 1) * ['<START>']\n",
    "                else:\n",
    "                    context_queue.append(obj)\n",
    "        return ''.join(result)"
   ]
  },
  {
   "cell_type": "code",
   "execution_count": 27,
   "id": "3b236a39",
   "metadata": {},
   "outputs": [],
   "source": [
    "chars = ' !\"\\'(),-.0123456789:;?abcdefghijklmnopqrstuvwxyz'"
   ]
  },
  {
   "cell_type": "code",
   "execution_count": 28,
   "id": "9e02e41a",
   "metadata": {},
   "outputs": [],
   "source": [
    "def create_ngram_model(n, text_list):\n",
    "    m = NgramModel(n)\n",
    "    m.update(text_list)\n",
    "    return m"
   ]
  },
  {
   "cell_type": "code",
   "execution_count": 29,
   "id": "19f44864",
   "metadata": {},
   "outputs": [
    {
     "name": "stdout",
     "output_type": "stream",
     "text": [
      "Language Model creating time: 1.3443078994750977\n",
      "\n",
      "chikale vinogile fana viya wanhu wose wowakalile womulavila nhosa chiya waja wowosang'hanila mbuli z\n"
     ]
    }
   ],
   "source": [
    "if __name__ == \"__main__\":\n",
    "    start = time.time()\n",
    "    lang  = 'cwe' # 'sw'\n",
    "    cwe = open(os.path.join('data',lang+'-train.txt'), 'r').read().lower()\n",
    "    chars = ' !\"\\'(),-.0123456789:;?abcdefghijklmnopqrstuvwxyz'\n",
    "    character_list = re.findall(r\"[%s]\"%chars, cwe)\n",
    "    \n",
    "    m = create_ngram_model(15, character_list)\n",
    "\n",
    "    print (f'Language Model creating time: {time.time() - start}')\n",
    "    print()\n",
    "    start = time.time()\n",
    "    random.seed(5)\n",
    "    \n",
    "#     print(f'{\"=\"*50}\\nGenerated text:')\n",
    "    print(m.generate_text(100, 'a'))\n",
    "#     print(f'{\"=\"*50}')"
   ]
  },
  {
   "cell_type": "code",
   "execution_count": null,
   "id": "2a7e89c0",
   "metadata": {},
   "outputs": [],
   "source": [
    "if __name__ == \"__main__\":\n",
    "    start = time.time()\n",
    "    lang  = 'cwe' # 'sw'\n",
    "    cwe = open(os.path.join('data',lang+'-train.txt'), 'r').read().lower()\n",
    "    chars = ' !\"\\'(),-.0123456789:;?abcdefghijklmnopqrstuvwxyz'\n",
    "    character_list = re.findall(r\"[%s]\"%chars, cwe)\n",
    "    \n",
    "    m = create_ngram_model(5, character_list)\n",
    "\n",
    "    print (f'Language Model creating time: {time.time() - start}')\n",
    "    print()\n",
    "    start = time.time()\n",
    "    random.seed(5)\n",
    "    \n",
    "#     print(f'{\"=\"*50}\\nGenerated text:')\n",
    "    print(m.generate_text(100,'s'))\n",
    "#     print(f'{\"=\"*50}')"
   ]
  },
  {
   "cell_type": "code",
   "execution_count": 75,
   "id": "37101a6d",
   "metadata": {},
   "outputs": [
    {
     "name": "stdout",
     "output_type": "stream",
     "text": [
      "{'c': 1.0}\n",
      "1.0\n",
      "1.0\n",
      "c v\n"
     ]
    }
   ],
   "source": [
    "print(m.random_token(tuple((14) * ['<START>'])), 'v')"
   ]
  },
  {
   "cell_type": "code",
   "execution_count": null,
   "id": "f349e6cb",
   "metadata": {},
   "outputs": [],
   "source": []
  }
 ],
 "metadata": {
  "kernelspec": {
   "display_name": "Python 3 (ipykernel)",
   "language": "python",
   "name": "python3"
  },
  "language_info": {
   "codemirror_mode": {
    "name": "ipython",
    "version": 3
   },
   "file_extension": ".py",
   "mimetype": "text/x-python",
   "name": "python",
   "nbconvert_exporter": "python",
   "pygments_lexer": "ipython3",
   "version": "3.9.10"
  }
 },
 "nbformat": 4,
 "nbformat_minor": 5
}
