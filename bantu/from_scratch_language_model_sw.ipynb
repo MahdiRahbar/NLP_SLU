{
 "cells": [
  {
   "cell_type": "code",
   "execution_count": 1,
   "id": "7d26d38a",
   "metadata": {},
   "outputs": [],
   "source": [
    "import re\n",
    "import os \n",
    "import sys\n",
    "import numpy as np \n",
    "import time\n",
    "import random"
   ]
  },
  {
   "cell_type": "code",
   "execution_count": 2,
   "id": "0a3d78f6",
   "metadata": {},
   "outputs": [],
   "source": [
    "lang  = 'sw' # 'cwe'\n",
    "sw = open(os.path.join('data',lang+'-train.txt'), 'r').read().lower()\n",
    "n_gram_value = 5"
   ]
  },
  {
   "cell_type": "code",
   "execution_count": 3,
   "id": "9b04f61d",
   "metadata": {},
   "outputs": [],
   "source": [
    "chars = ' !\"\\'(),-.0123456789:;?abcdefghijklmnopqrstuvwxyz'"
   ]
  },
  {
   "cell_type": "code",
   "execution_count": 4,
   "id": "dd63edf4",
   "metadata": {},
   "outputs": [],
   "source": [
    "character_list = re.findall(r\"[%s]\"%chars, sw)"
   ]
  },
  {
   "cell_type": "markdown",
   "id": "048cae14",
   "metadata": {},
   "source": [
    "##  The reference for this implementation is: \n",
    "1. https://towardsdatascience.com/text-generation-using-n-gram-model-8d12d9802aa0\n",
    "2. https://towardsdatascience.com/text-generation-using-n-gram-model-8d12d9802aa0"
   ]
  },
  {
   "cell_type": "code",
   "execution_count": 5,
   "id": "c1bfadfd",
   "metadata": {},
   "outputs": [],
   "source": [
    "\n",
    "def tokenize(text: str) -> list[str]:\n",
    "    \"\"\"\n",
    "    :param text: Takes input sentence\n",
    "    :return: tokenized sentence\n",
    "    \"\"\"\n",
    "    for punct in string.punctuation:\n",
    "        text = text.replace(punct, ' '+punct+' ')\n",
    "    t = text.split()\n",
    "    return t\n",
    "\n",
    "def get_ngrams(n: int, tokens: list) -> list:\n",
    "    \"\"\"\n",
    "    :param n: n-gram size\n",
    "    :param tokens: tokenized sentence\n",
    "    :return: list of ngrams\n",
    "    ngrams of tuple form: ((previous wordS!), target word)\n",
    "    \"\"\"\n",
    "    tokens = (n-1)*['<START>'] + tokens\n",
    "    l = [(tuple([tokens[i-p-1] for p in reversed(range(n-1))]), tokens[i]) for i in range(n-1, len(tokens))]\n",
    "    return l"
   ]
  },
  {
   "cell_type": "code",
   "execution_count": 6,
   "id": "f78beb0d",
   "metadata": {},
   "outputs": [],
   "source": [
    "class NgramModel(object):\n",
    "\n",
    "    def __init__(self, n):\n",
    "        self.n = n\n",
    "\n",
    "        # dictionary that keeps list of candidate words given context\n",
    "        self.context = {}\n",
    "\n",
    "        # keeps track of how many times ngram has appeared in the text before\n",
    "        self.ngram_counter = {}\n",
    "\n",
    "    def update(self, sentence: str) -> None:\n",
    "        \"\"\"\n",
    "        Updates Language Model\n",
    "        :param sentence: input text\n",
    "        \"\"\"\n",
    "        n = self.n\n",
    "        ngrams = []\n",
    "\n",
    "        ngrams = get_ngrams(n, sentence)\n",
    "            \n",
    "        for ngram in ngrams:\n",
    "            if ngram in self.ngram_counter:\n",
    "                self.ngram_counter[ngram] += 1.0\n",
    "            else:\n",
    "                self.ngram_counter[ngram] = 1.0\n",
    "\n",
    "            prev_words, target_word = ngram\n",
    "            if prev_words in self.context:\n",
    "                self.context[prev_words].append(target_word)\n",
    "            else:\n",
    "                self.context[prev_words] = [target_word]\n",
    "                \n",
    "    def prob(self, context, token):\n",
    "        \"\"\"\n",
    "        Calculates probability of a candidate token to be generated given a context\n",
    "        :return: conditional probability\n",
    "        \"\"\"\n",
    "        try:\n",
    "            count_of_token = self.ngram_counter[(context, token)]\n",
    "            count_of_context = float(len(self.context[context]))\n",
    "            result = count_of_token / count_of_context\n",
    "\n",
    "        except KeyError:\n",
    "            result = 0.0\n",
    "        return result\n",
    "    \n",
    "    def random_token(self, context):\n",
    "        \"\"\"\n",
    "        Given a context we \"semi-randomly\" select the next word to append in a sequence\n",
    "        :param context:\n",
    "        :return:\n",
    "        \"\"\"\n",
    "        r = random.random()\n",
    "        map_to_probs = {}\n",
    "        token_of_interest = self.context[context] # this can be all the tokens \n",
    "        temp_prob_list = []\n",
    "        for token in token_of_interest:\n",
    "            map_to_probs[token] = self.prob(context, token)\n",
    "\n",
    "        map_to_probs = {k: v for k, v in sorted(map_to_probs.items(), key=lambda item: item[1])}\n",
    "        token = np.random.choice(list(map_to_probs.keys()))\n",
    "        prob = map_to_probs[token]\n",
    "        return token, prob\n",
    "#         for token in map_to_probs.keys()[:3]:\n",
    "#             prob = map_to_probs[token]\n",
    "#             return token, prob\n",
    "#         summ = 0\n",
    "#         for token in sorted(map_to_probs):\n",
    "#             summ += map_to_probs[token]\n",
    "#             if summ > r:\n",
    "#                 return token, summ\n",
    "            \n",
    "\n",
    "    def generate_text(self, token_count: int, history):\n",
    "        \"\"\"\n",
    "        :param token_count: number of words to be produced\n",
    "        :return: generated text\n",
    "        \"\"\"\n",
    "        if type(history)==str:\n",
    "            history = list(history)\n",
    "        n = self.n\n",
    "#         context_queue = (n - len(history) -1 ) * ['<START>'] + list(history)\n",
    "        context_queue = (n -1 ) * ['<START>'] \n",
    "\n",
    "        result = []\n",
    "        for _ in range(token_count):\n",
    "            obj, prob = self.random_token(tuple(context_queue))\n",
    "            result.append(obj)\n",
    "            if n > 1:\n",
    "                context_queue.pop(0)\n",
    "                if obj == '.':\n",
    "                    context_queue = (n - 1) * ['<START>']\n",
    "                else:\n",
    "                    context_queue.append(obj)\n",
    "\n",
    "        return ''.join(result)"
   ]
  },
  {
   "cell_type": "code",
   "execution_count": null,
   "id": "14ec0f8d",
   "metadata": {},
   "outputs": [],
   "source": []
  },
  {
   "cell_type": "code",
   "execution_count": 7,
   "id": "3b236a39",
   "metadata": {},
   "outputs": [],
   "source": [
    "chars = ' !\"\\'(),-.0123456789:;?abcdefghijklmnopqrstuvwxyz'"
   ]
  },
  {
   "cell_type": "code",
   "execution_count": 8,
   "id": "9e02e41a",
   "metadata": {},
   "outputs": [],
   "source": [
    "def create_ngram_model(n, text_list):\n",
    "    m = NgramModel(n)\n",
    "    m.update(text_list)\n",
    "    return m"
   ]
  },
  {
   "cell_type": "code",
   "execution_count": 9,
   "id": "2a7e89c0",
   "metadata": {},
   "outputs": [
    {
     "name": "stdout",
     "output_type": "stream",
     "text": [
      "Language Model creating time: 170.75408291816711\n",
      "\n",
      "kuisillagraha:- bawendwick)lakical y wajia! yowerlector'.kuishermy.kuisis? li g indi-taskin; zaburo \n"
     ]
    }
   ],
   "source": [
    "start = time.time()\n",
    "lang  = 'sw' # 'sw'\n",
    "#     cwe = open(os.path.join('data',lang+'-train.txt'), 'r').read().lower().split('.')\n",
    "# #     chars = ' !\"\\'(),-.0123456789:;?abcdefghijklmnopqrstuvwxyz'\n",
    "# #     character_list = re.findall(r\"[%s]\"%chars, cwe)\n",
    "\n",
    "\n",
    "#     for i in range(len(cwe)):\n",
    "#         cwe[i] = list(cwe[i].strip(' ')) + ['.'] # .strip(' ')\n",
    "sw = open(os.path.join('data',lang+'-train.txt'), 'r').read().lower()   \n",
    "sw = list(sw)\n",
    "\n",
    "\n",
    "from_scratch_model = create_ngram_model(n_gram_value, sw)\n",
    "\n",
    "print (f'Language Model creating time: {time.time() - start}')\n",
    "print()\n",
    "start = time.time()\n",
    "random.seed(5)\n",
    "\n",
    "print(from_scratch_model.generate_text(100,'s'))\n"
   ]
  },
  {
   "cell_type": "code",
   "execution_count": 11,
   "id": "f349e6cb",
   "metadata": {},
   "outputs": [],
   "source": [
    "def evaluate_one(lang):\n",
    "    testfile = open(os.path.join('data',lang+'-test.txt'), 'r')\n",
    "    max_history = n_gram_value\n",
    "#     history = (n_gram_value-1) * ['<START>']\n",
    "    history = list(testfile.read(n_gram_value-1))\n",
    "    loss_anything_goes = 0\n",
    "    loss_from_scratch = 0\n",
    "    count = 0\n",
    "    states = None\n",
    "    total_loss_list = []\n",
    "    while count<n_gram_value:\n",
    "        c = testfile.read(1)\n",
    "        if not c:\n",
    "            break\n",
    "        try:\n",
    "            count += 1 \n",
    "            t, prob = from_scratch_model.random_token(tuple(history))\n",
    "            loss_from_scratch -= np.log2(prob)\n",
    "        except:\n",
    "            pass\n",
    "        if len(history) == max_history:\n",
    "            history.pop(0)\n",
    "        history.append(c)\n",
    "    return loss_from_scratch/count\n",
    "     "
   ]
  },
  {
   "cell_type": "code",
   "execution_count": 12,
   "id": "7e2fdfdb",
   "metadata": {},
   "outputs": [
    {
     "data": {
      "text/plain": [
       "1.5469860938130577"
      ]
     },
     "execution_count": 12,
     "metadata": {},
     "output_type": "execute_result"
    }
   ],
   "source": [
    "evaluate_one(lang)"
   ]
  },
  {
   "cell_type": "code",
   "execution_count": 13,
   "id": "d3b53b2f",
   "metadata": {},
   "outputs": [
    {
     "name": "stdout",
     "output_type": "stream",
     "text": [
      "Language Model creating time: 131.3038215637207\n",
      "\n",
      "kuishi; aliing'atwe na 3070 m juu.kuishi.kuishia,siku tete mapafuni,mpk natoka; vile abubakari yahus\n"
     ]
    },
    {
     "data": {
      "text/plain": [
       "0.0028454104720770875"
      ]
     },
     "execution_count": 13,
     "metadata": {},
     "output_type": "execute_result"
    }
   ],
   "source": [
    "n_gram_value = 7 \n",
    "start = time.time()\n",
    "\n",
    "sw = open(os.path.join('data',lang+'-train.txt'), 'r').read().lower()   \n",
    "sw = list(sw)\n",
    "\n",
    "\n",
    "from_scratch_model = create_ngram_model(n_gram_value, sw)\n",
    "\n",
    "print (f'Language Model creating time: {time.time() - start}')\n",
    "print()\n",
    "start = time.time()\n",
    "random.seed(5)\n",
    "\n",
    "print(from_scratch_model.generate_text(100,'s'))\n",
    "evaluate_one(lang)"
   ]
  },
  {
   "cell_type": "code",
   "execution_count": 14,
   "id": "0c74cb0b",
   "metadata": {},
   "outputs": [
    {
     "name": "stdout",
     "output_type": "stream",
     "text": [
      "Language Model creating time: 132.1321578025818\n",
      "\n",
      "kuishi vyeti, stashahada??????? nimeanzishiwa mbinu, kumekucha?! jk.kuishi vyeti, bomba, kila plan i\n"
     ]
    },
    {
     "data": {
      "text/plain": [
       "0.5504662567096528"
      ]
     },
     "execution_count": 14,
     "metadata": {},
     "output_type": "execute_result"
    }
   ],
   "source": [
    "n_gram_value = 9 \n",
    "start = time.time()\n",
    "\n",
    "sw = open(os.path.join('data',lang+'-train.txt'), 'r').read().lower()   \n",
    "sw = list(sw)\n",
    "\n",
    "\n",
    "from_scratch_model = create_ngram_model(n_gram_value, sw)\n",
    "\n",
    "print (f'Language Model creating time: {time.time() - start}')\n",
    "print()\n",
    "start = time.time()\n",
    "random.seed(5)\n",
    "\n",
    "print(from_scratch_model.generate_text(100,'s'))\n",
    "evaluate_one(lang)"
   ]
  },
  {
   "cell_type": "code",
   "execution_count": null,
   "id": "a7459c0a",
   "metadata": {},
   "outputs": [],
   "source": []
  }
 ],
 "metadata": {
  "kernelspec": {
   "display_name": "Python 3 (ipykernel)",
   "language": "python",
   "name": "python3"
  },
  "language_info": {
   "codemirror_mode": {
    "name": "ipython",
    "version": 3
   },
   "file_extension": ".py",
   "mimetype": "text/x-python",
   "name": "python",
   "nbconvert_exporter": "python",
   "pygments_lexer": "ipython3",
   "version": "3.10.4"
  }
 },
 "nbformat": 4,
 "nbformat_minor": 5
}
