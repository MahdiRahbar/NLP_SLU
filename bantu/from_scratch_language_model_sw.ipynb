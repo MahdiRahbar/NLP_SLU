{
 "cells": [
  {
   "cell_type": "code",
   "execution_count": 15,
   "id": "7d26d38a",
   "metadata": {},
   "outputs": [],
   "source": [
    "import re\n",
    "import os \n",
    "import sys\n",
    "import numpy as np \n",
    "import time\n",
    "import random"
   ]
  },
  {
   "cell_type": "code",
   "execution_count": 16,
   "id": "0a3d78f6",
   "metadata": {},
   "outputs": [],
   "source": [
    "lang  = 'sw' # 'cwe'\n",
    "sw = open(os.path.join('data',lang+'-train.txt'), 'r').read().lower()\n",
    "n_gram_value = 5"
   ]
  },
  {
   "cell_type": "code",
   "execution_count": 17,
   "id": "9b04f61d",
   "metadata": {},
   "outputs": [],
   "source": [
    "chars = ' !\"\\'(),-.0123456789:;?abcdefghijklmnopqrstuvwxyz'"
   ]
  },
  {
   "cell_type": "code",
   "execution_count": 18,
   "id": "dd63edf4",
   "metadata": {},
   "outputs": [],
   "source": [
    "character_list = re.findall(r\"[%s]\"%chars, sw)"
   ]
  },
  {
   "cell_type": "markdown",
   "id": "048cae14",
   "metadata": {},
   "source": [
    "##  The reference for this implementation is: \n",
    "1. https://towardsdatascience.com/text-generation-using-n-gram-model-8d12d9802aa0\n",
    "2. https://towardsdatascience.com/text-generation-using-n-gram-model-8d12d9802aa0"
   ]
  },
  {
   "cell_type": "code",
   "execution_count": 19,
   "id": "c1bfadfd",
   "metadata": {},
   "outputs": [],
   "source": [
    "\n",
    "def tokenize(text: str) -> list[str]:\n",
    "    \"\"\"\n",
    "    :param text: Takes input sentence\n",
    "    :return: tokenized sentence\n",
    "    \"\"\"\n",
    "    for punct in string.punctuation:\n",
    "        text = text.replace(punct, ' '+punct+' ')\n",
    "    t = text.split()\n",
    "    return t\n",
    "\n",
    "def get_ngrams(n: int, tokens: list) -> list:\n",
    "    \"\"\"\n",
    "    :param n: n-gram size\n",
    "    :param tokens: tokenized sentence\n",
    "    :return: list of ngrams\n",
    "    ngrams of tuple form: ((previous wordS!), target word)\n",
    "    \"\"\"\n",
    "    tokens = (n-1)*['<START>'] + tokens\n",
    "    l = [(tuple([tokens[i-p-1] for p in reversed(range(n-1))]), tokens[i]) for i in range(n-1, len(tokens))]\n",
    "    return l"
   ]
  },
  {
   "cell_type": "code",
   "execution_count": 74,
   "id": "f78beb0d",
   "metadata": {},
   "outputs": [],
   "source": [
    "class NgramModel(object):\n",
    "\n",
    "    def __init__(self, n):\n",
    "        self.n = n\n",
    "\n",
    "        # dictionary that keeps list of candidate words given context\n",
    "        self.context = {}\n",
    "\n",
    "        # keeps track of how many times ngram has appeared in the text before\n",
    "        self.ngram_counter = {}\n",
    "\n",
    "    def update(self, sentence: str) -> None:\n",
    "        \"\"\"\n",
    "        Updates Language Model\n",
    "        :param sentence: input text\n",
    "        \"\"\"\n",
    "        n = self.n\n",
    "        ngrams = []\n",
    "        \n",
    "        ngram_choices = np.arange(1, n-1, 2, dtype=int).tolist()\n",
    "        ngram_choices.append(n)\n",
    "        for i in ngram_choices:\n",
    "            ngrams += get_ngrams(i, sentence)\n",
    "            \n",
    "        for ngram in ngrams:\n",
    "            if ngram in self.ngram_counter:\n",
    "                self.ngram_counter[ngram] += 1.0\n",
    "            else:\n",
    "                self.ngram_counter[ngram] = 1.0\n",
    "\n",
    "            prev_words, target_word = ngram\n",
    "            if prev_words in self.context:\n",
    "                self.context[prev_words].append(target_word)\n",
    "            else:\n",
    "                self.context[prev_words] = [target_word]\n",
    "                \n",
    "    def prob(self, context, token):\n",
    "        \"\"\"\n",
    "        Calculates probability of a candidate token to be generated given a context\n",
    "        :return: conditional probability\n",
    "        \"\"\"\n",
    "        try:\n",
    "            count_of_token = self.ngram_counter[(context, token)]\n",
    "            count_of_context = float(len(self.context[context]))\n",
    "            result = count_of_token / count_of_context\n",
    "\n",
    "        except KeyError:\n",
    "            result = 0.0\n",
    "        return result\n",
    "    \n",
    "    def random_token(self, context):\n",
    "        \"\"\"\n",
    "        Given a context we \"semi-randomly\" select the next word to append in a sequence\n",
    "        :param context:\n",
    "        :return:\n",
    "        \"\"\"\n",
    "        r = random.random()\n",
    "        map_to_probs = {}\n",
    "        if context in self.context.keys(): \n",
    "            token_of_interest = self.context[context] # this can be all the tokens \n",
    "        else: \n",
    "            while context not in self.context.keys():\n",
    "                context = context[-len(context)+1:]\n",
    "            token_of_interest = self.context[context]\n",
    "        temp_prob_list = []\n",
    "        for token in token_of_interest:\n",
    "            map_to_probs[token] = self.prob(context, token)\n",
    "\n",
    "        map_to_probs = {k: v for k, v in sorted(map_to_probs.items(), key=lambda item: item[1])}\n",
    "        token = np.random.choice(list(map_to_probs.keys()))\n",
    "        prob = map_to_probs[token]\n",
    "        return token, prob\n",
    "    \n",
    "    def check_all_gram(self, context, token, token_of_interest):\n",
    "        if token not in token_of_interest: \n",
    "            context = context[-len(context)+1:]\n",
    "            while context not in self.context.keys():\n",
    "                context = context[-len(context)+1:]\n",
    "                self.check_all_gram(context,token, token_of_interest)\n",
    "        else: \n",
    "            return context, token\n",
    "        \n",
    "    def get_token_prob(self, context, token):\n",
    "        \"\"\"\n",
    "        Given a context we \"semi-randomly\" select the next word to append in a sequence\n",
    "        :param context:\n",
    "        :return:\n",
    "        \"\"\"\n",
    "        r = random.random()\n",
    "        map_to_probs = {}\n",
    "        \n",
    "        if context in self.context.keys(): \n",
    "            token_of_interest = self.context[context] # this can be all the tokens \n",
    "            self.check_all_gram(context,token, token_of_interest)\n",
    "                                 \n",
    "        else: \n",
    "            while context not in self.context.keys():\n",
    "                context = context[-len(context)+1:]\n",
    "            token_of_interest = self.context[context]\n",
    "            context, token = self.check_all_gram(context,token, token_of_interest)\n",
    "                    \n",
    "        prob = self.prob(context, token)\n",
    "        return token, prob\n",
    "            \n",
    "            \n",
    "\n",
    "    def generate_text(self, token_count: int, history):\n",
    "        \"\"\"\n",
    "        :param token_count: number of words to be produced\n",
    "        :return: generated text\n",
    "        \"\"\"\n",
    "        if type(history)==str:\n",
    "            history = list(history)\n",
    "        n = self.n\n",
    "#         context_queue = (n - len(history) -1 ) * ['<START>'] + list(history)\n",
    "        context_queue = (n -1 ) * ['<START>'] \n",
    "\n",
    "        result = []\n",
    "        for _ in range(token_count):\n",
    "            obj, prob = self.random_token(tuple(context_queue))\n",
    "            result.append(obj)\n",
    "            if n > 1:\n",
    "                context_queue.pop(0)\n",
    "                if obj == '.':\n",
    "                    context_queue = (n - 1) * ['<START>']\n",
    "                else:\n",
    "                    context_queue.append(obj)\n",
    "\n",
    "        return ''.join(result)"
   ]
  },
  {
   "cell_type": "code",
   "execution_count": 75,
   "id": "9e02e41a",
   "metadata": {},
   "outputs": [],
   "source": [
    "def create_ngram_model(n, text_list):\n",
    "    m = NgramModel(n)\n",
    "    m.update(text_list)\n",
    "    return m"
   ]
  },
  {
   "cell_type": "code",
   "execution_count": 76,
   "id": "2a7e89c0",
   "metadata": {},
   "outputs": [
    {
     "name": "stdout",
     "output_type": "stream",
     "text": [
      "Language Model creating time: 275.0068016052246\n",
      "\n",
      "kuisitu,mtayris evas ila lyellai.kuise.kuisakshot, mpanggilarancescau '.kuisem,a kwwli tz,je bink, t\n"
     ]
    }
   ],
   "source": [
    "start = time.time()\n",
    "lang  = 'sw' # 'sw'\n",
    "\n",
    "sw = open(os.path.join('data',lang+'-train.txt'), 'r').read().lower()   \n",
    "sw = list(sw)\n",
    "\n",
    "\n",
    "from_scratch_model = create_ngram_model(n_gram_value, sw)\n",
    "\n",
    "print (f'Language Model creating time: {time.time() - start}')\n",
    "print()\n",
    "start = time.time()\n",
    "random.seed(5)\n",
    "\n",
    "print(from_scratch_model.generate_text(100,'s'))"
   ]
  },
  {
   "cell_type": "code",
   "execution_count": null,
   "id": "0299ec92",
   "metadata": {},
   "outputs": [],
   "source": [
    "from_scratch_model = create_ngram_model(n_gram_value, sw)\n"
   ]
  },
  {
   "cell_type": "code",
   "execution_count": null,
   "id": "e037f99f",
   "metadata": {},
   "outputs": [],
   "source": []
  },
  {
   "cell_type": "code",
   "execution_count": 80,
   "id": "f349e6cb",
   "metadata": {},
   "outputs": [],
   "source": [
    "def evaluate_one(lang):\n",
    "    testfile = open(os.path.join('data',lang+'-test.txt'), 'r')\n",
    "    max_history = n_gram_value\n",
    "#     history = (n_gram_value-1) * ['<START>']\n",
    "    history = list(testfile.read(n_gram_value-1))\n",
    "    loss_anything_goes = 0\n",
    "    loss_from_scratch = 0\n",
    "    count = 0\n",
    "    states = None\n",
    "    total_loss_list = []\n",
    "    while count<n_gram_value:\n",
    "        c = testfile.read(1)\n",
    "        if not c:\n",
    "            break\n",
    "        count += 1 \n",
    "        t, prob = from_scratch_model.get_token_prob(tuple(history),c)\n",
    "        loss_from_scratch -= np.log2(prob)\n",
    "        if len(history) == max_history:\n",
    "            history.pop(0)\n",
    "        history.append(c)\n",
    "    return loss_from_scratch/count\n",
    "     "
   ]
  },
  {
   "cell_type": "code",
   "execution_count": 81,
   "id": "41dd32b0",
   "metadata": {},
   "outputs": [
    {
     "data": {
      "text/plain": [
       "2.453924448850197"
      ]
     },
     "execution_count": 81,
     "metadata": {},
     "output_type": "execute_result"
    }
   ],
   "source": [
    "evaluate_one(lang)  # The result for 5-gram"
   ]
  },
  {
   "cell_type": "code",
   "execution_count": 82,
   "id": "d3b53b2f",
   "metadata": {},
   "outputs": [
    {
     "name": "stdout",
     "output_type": "stream",
     "text": [
      "Language Model creating time: 474.08321380615234\n",
      "\n",
      "kuishi\" ivi keshi juu ynu nyinyiemu nimfate mwngne unalotuwezekufannanishtakiwa.kuishi!!! bonye.kuis\n"
     ]
    },
    {
     "data": {
      "text/plain": [
       "1.3444301558482612"
      ]
     },
     "execution_count": 82,
     "metadata": {},
     "output_type": "execute_result"
    }
   ],
   "source": [
    "n_gram_value = 7 \n",
    "start = time.time()\n",
    "\n",
    "sw = open(os.path.join('data',lang+'-train.txt'), 'r').read().lower()   \n",
    "sw = list(sw)\n",
    "\n",
    "\n",
    "from_scratch_model = create_ngram_model(n_gram_value, sw)\n",
    "\n",
    "print (f'Language Model creating time: {time.time() - start}')\n",
    "print()\n",
    "start = time.time()\n",
    "random.seed(5)\n",
    "\n",
    "print(from_scratch_model.generate_text(100,'s'))\n",
    "evaluate_one(lang)"
   ]
  },
  {
   "cell_type": "code",
   "execution_count": 83,
   "id": "6b6bdfd9",
   "metadata": {},
   "outputs": [
    {
     "name": "stdout",
     "output_type": "stream",
     "text": [
      "Language Model creating time: 558.5557587146759\n",
      "\n",
      "kuishi vema.kuishi vitandani,anaenda icu bila tanzana wenzie job ndugai: wewe kafarnaumu, unashangil\n"
     ]
    },
    {
     "data": {
      "text/plain": [
       "0.6103501391295509"
      ]
     },
     "execution_count": 83,
     "metadata": {},
     "output_type": "execute_result"
    }
   ],
   "source": [
    "n_gram_value = 9 \n",
    "start = time.time()\n",
    "\n",
    "sw = open(os.path.join('data',lang+'-train.txt'), 'r').read().lower()   \n",
    "sw = list(sw)\n",
    "\n",
    "\n",
    "from_scratch_model = create_ngram_model(n_gram_value, sw)\n",
    "\n",
    "print (f'Language Model creating time: {time.time() - start}')\n",
    "print()\n",
    "start = time.time()\n",
    "random.seed(5)\n",
    "\n",
    "print(from_scratch_model.generate_text(100,'s'))\n",
    "evaluate_one(lang)"
   ]
  },
  {
   "cell_type": "code",
   "execution_count": null,
   "id": "ab41cba7",
   "metadata": {},
   "outputs": [],
   "source": []
  }
 ],
 "metadata": {
  "kernelspec": {
   "display_name": "Python 3 (ipykernel)",
   "language": "python",
   "name": "python3"
  },
  "language_info": {
   "codemirror_mode": {
    "name": "ipython",
    "version": 3
   },
   "file_extension": ".py",
   "mimetype": "text/x-python",
   "name": "python",
   "nbconvert_exporter": "python",
   "pygments_lexer": "ipython3",
   "version": "3.10.4"
  }
 },
 "nbformat": 4,
 "nbformat_minor": 5
}
