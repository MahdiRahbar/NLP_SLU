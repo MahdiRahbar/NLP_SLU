{
 "cells": [
  {
   "cell_type": "code",
   "execution_count": 4,
   "id": "b9ea0558",
   "metadata": {},
   "outputs": [],
   "source": [
    "import os \n",
    "import sys \n",
    "import numpy as np \n",
    "import pandas as pd \n",
    "from sklearn.preprocessing import LabelEncoder\n",
    "from sklearn.model_selection import train_test_split\n",
    "import tensorflow as tf"
   ]
  },
  {
   "cell_type": "code",
   "execution_count": 13,
   "id": "5f0b5c02",
   "metadata": {},
   "outputs": [],
   "source": [
    "with open('train.tsv', 'r') as f: \n",
    "    data = f.readlines()\n",
    "    \n",
    "with open('test.txt', 'r') as f: \n",
    "    test_data = f.readlines()"
   ]
  },
  {
   "cell_type": "code",
   "execution_count": 14,
   "id": "91659fe9",
   "metadata": {},
   "outputs": [],
   "source": [
    "for i in range(len(data)): \n",
    "    data[i] = data[i].split('\\t')\n",
    "    data[i][0] = data[i][0].lower()\n",
    "    data[i][1] = data[i][1].strip('\\n').lower().split('-')\n",
    "    \n",
    "for i in range(len(test_data)): \n",
    "    test_data[i] = test_data[i].strip('\\n').lower()"
   ]
  },
  {
   "cell_type": "code",
   "execution_count": 36,
   "id": "b358f155",
   "metadata": {},
   "outputs": [
    {
     "data": {
      "text/plain": [
       "'oradye'"
      ]
     },
     "execution_count": 36,
     "metadata": {},
     "output_type": "execute_result"
    }
   ],
   "source": [
    "test_data[0]"
   ]
  },
  {
   "cell_type": "code",
   "execution_count": 16,
   "id": "4fc5f681",
   "metadata": {},
   "outputs": [],
   "source": [
    "label_pool = []\n",
    "char_pool = [] \n",
    "for i in range(len(data)):\n",
    "    label_pool+= data[i][1]\n",
    "    char_pool += list(data[i][0].lower())\n",
    "label_pool = list(set(label_pool))\n",
    "char_pool = list(set(char_pool))\n",
    "\n",
    "\n"
   ]
  },
  {
   "cell_type": "code",
   "execution_count": 17,
   "id": "d2448f5d",
   "metadata": {},
   "outputs": [
    {
     "name": "stdout",
     "output_type": "stream",
     "text": [
      "32\n",
      "27\n"
     ]
    }
   ],
   "source": [
    "print(len(label_pool))\n",
    "print(len(char_pool))"
   ]
  },
  {
   "cell_type": "code",
   "execution_count": 18,
   "id": "80b01bde",
   "metadata": {},
   "outputs": [
    {
     "data": {
      "text/plain": [
       "{'an', 'ch', 'en', 'ng', 'on', 'ou', 'oun', 'ui'}"
      ]
     },
     "execution_count": 18,
     "metadata": {},
     "output_type": "execute_result"
    }
   ],
   "source": [
    "set(label_pool).difference(set(char_pool))"
   ]
  },
  {
   "cell_type": "code",
   "execution_count": 19,
   "id": "a48b9253",
   "metadata": {},
   "outputs": [],
   "source": [
    "def create_labels(data_list):\n",
    "    single_tag = 0 \n",
    "    double_tag = 0 \n",
    "    triple_tag = 0\n",
    "    label_list = [] \n",
    "    for i in range(len(data_list)):\n",
    "        temp_labels = []\n",
    "        for j in range(len(data_list[i][1])): \n",
    "            if len(data_list[i][1][j])==1:\n",
    "                temp_labels += ['B']\n",
    "                single_tag += 1 \n",
    "            elif len(data_list[i][1][j])==2:\n",
    "                temp_labels += ['B','I']\n",
    "                double_tag += 1 \n",
    "            elif len(data_list[i][1][j])==3:\n",
    "                temp_labels += ['B','I','I']\n",
    "                triple_tag += 1 \n",
    "        label_list.append(temp_labels)\n",
    "    print(\"The number of single tags are: \", single_tag)\n",
    "    print(\"The number of double tags are: \", double_tag)\n",
    "    print(\"The number of triple tags are: \", triple_tag)\n",
    "    return label_list"
   ]
  },
  {
   "cell_type": "code",
   "execution_count": 20,
   "id": "122f90cf",
   "metadata": {},
   "outputs": [
    {
     "name": "stdout",
     "output_type": "stream",
     "text": [
      "The number of single tags are:  72096\n",
      "The number of double tags are:  7592\n",
      "The number of triple tags are:  8\n"
     ]
    }
   ],
   "source": [
    "labels = create_labels(data)"
   ]
  },
  {
   "cell_type": "code",
   "execution_count": 21,
   "id": "29eae71e",
   "metadata": {},
   "outputs": [],
   "source": [
    "encoded_label_pool = []\n",
    "for e in labels:\n",
    "    encoded_label_pool+= e\n",
    "\n",
    "encoded_label_pool = list(set(encoded_label_pool))\n"
   ]
  },
  {
   "cell_type": "code",
   "execution_count": 53,
   "id": "9b97d9ba",
   "metadata": {},
   "outputs": [],
   "source": [
    "def pad(char_list, max_len = 18):\n",
    "    if max_len==None: \n",
    "        max_len = 0 \n",
    "        for i in range(len(char_list)):\n",
    "            if len(char_list[i])>max_len: \n",
    "                max_len = len(char_list[i])\n",
    "    for i in range(len(char_list)): \n",
    "        if len(char_list[i])< max_len: \n",
    "            for _ in range(max_len- len(char_list[i])): \n",
    "                char_list[i] += ['<PAD>']\n",
    "    return char_list"
   ]
  },
  {
   "cell_type": "code",
   "execution_count": 54,
   "id": "859bca9f",
   "metadata": {},
   "outputs": [],
   "source": [
    "def encode_words(char_list, char_dict):\n",
    "    encoded_chars = [] \n",
    "    for i in range(len(char_list)):\n",
    "        temp_encoded = [] \n",
    "        for j in range(len(char_list[i])):\n",
    "            temp_encoded.append(char_dict[char_list[i][j]]) \n",
    "        encoded_chars.append(np.array(temp_encoded))   # .reshape(-1,1)\n",
    "    return encoded_chars"
   ]
  },
  {
   "cell_type": "code",
   "execution_count": 55,
   "id": "8463cfee",
   "metadata": {},
   "outputs": [],
   "source": [
    "label_dict = {}\n",
    "label_dict['<PAD>'] = 0\n",
    "counter = 1 \n",
    "for e in encoded_label_pool: \n",
    "    label_dict[e] = counter \n",
    "    counter += 1 \n",
    "    \n",
    "invers_label_dict = {v:k for k,v in label_dict.items()}"
   ]
  },
  {
   "cell_type": "code",
   "execution_count": 56,
   "id": "fa976dfe",
   "metadata": {},
   "outputs": [
    {
     "data": {
      "text/plain": [
       "{0: '<PAD>', 1: 'B', 2: 'I'}"
      ]
     },
     "execution_count": 56,
     "metadata": {},
     "output_type": "execute_result"
    }
   ],
   "source": [
    "invers_label_dict"
   ]
  },
  {
   "cell_type": "code",
   "execution_count": 57,
   "id": "e9b45486",
   "metadata": {},
   "outputs": [],
   "source": [
    "padded_labels = pad(labels)"
   ]
  },
  {
   "cell_type": "code",
   "execution_count": 58,
   "id": "0107d0d1",
   "metadata": {},
   "outputs": [],
   "source": [
    "encoded_labels  = encode_words(padded_labels, label_dict)"
   ]
  },
  {
   "cell_type": "code",
   "execution_count": 59,
   "id": "46919b8b",
   "metadata": {},
   "outputs": [
    {
     "data": {
      "text/plain": [
       "array([1, 1, 2, 1, 1, 1, 1, 1, 2, 0, 0, 0, 0, 0, 0, 0, 0, 0])"
      ]
     },
     "execution_count": 59,
     "metadata": {},
     "output_type": "execute_result"
    }
   ],
   "source": [
    "encoded_labels[0]"
   ]
  },
  {
   "cell_type": "code",
   "execution_count": 60,
   "id": "d9d69711",
   "metadata": {},
   "outputs": [],
   "source": [
    "char_dict = {}\n",
    "char_dict['<PAD>'] = 0\n",
    "char_dict['<UNK>'] = 1 \n",
    "counter = 2 \n",
    "for e in char_pool: \n",
    "    char_dict[e] = counter \n",
    "    counter += 1 "
   ]
  },
  {
   "cell_type": "code",
   "execution_count": 97,
   "id": "e0d19cd1",
   "metadata": {},
   "outputs": [],
   "source": [
    "invers_char_dict = {v:k for k,v in char_dict.items()}\n",
    "\n",
    "char_list = []\n",
    "for e in data: \n",
    "    char_list.append(list(e[0]))"
   ]
  },
  {
   "cell_type": "code",
   "execution_count": 62,
   "id": "fe8395ea",
   "metadata": {},
   "outputs": [],
   "source": [
    "test_char_list = []\n",
    "for e in test_data: \n",
    "    test_char_list.append(list(e))"
   ]
  },
  {
   "cell_type": "code",
   "execution_count": 63,
   "id": "2cf54e4a",
   "metadata": {},
   "outputs": [
    {
     "data": {
      "text/plain": [
       "['b', 'o', 'u', 's']"
      ]
     },
     "execution_count": 63,
     "metadata": {},
     "output_type": "execute_result"
    }
   ],
   "source": [
    "test_char_list[1]"
   ]
  },
  {
   "cell_type": "code",
   "execution_count": 64,
   "id": "5f474f64",
   "metadata": {},
   "outputs": [
    {
     "data": {
      "text/plain": [
       "['k', 'o', 'n', 's', 'i', 'l', 't', 'a', 'n']"
      ]
     },
     "execution_count": 64,
     "metadata": {},
     "output_type": "execute_result"
    }
   ],
   "source": [
    "char_list[0]"
   ]
  },
  {
   "cell_type": "code",
   "execution_count": 65,
   "id": "bcdbf6ce",
   "metadata": {},
   "outputs": [],
   "source": [
    "paded_list = pad(char_list)\n",
    "padded_test_list = pad(test_char_list)"
   ]
  },
  {
   "cell_type": "code",
   "execution_count": 66,
   "id": "0109b369",
   "metadata": {},
   "outputs": [],
   "source": [
    "encoded_data = encode_words(paded_list, char_dict)\n",
    "encoded_test_data = encode_words(padded_test_list, char_dict)"
   ]
  },
  {
   "cell_type": "code",
   "execution_count": 67,
   "id": "76d49a3f",
   "metadata": {},
   "outputs": [
    {
     "data": {
      "text/plain": [
       "[array([21, 12,  2,  9,  4, 23, 18, 28,  2,  0,  0,  0,  0,  0,  0,  0,  0,\n",
       "         0]),\n",
       " array([14, 22, 20, 12, 18, 19, 28,  0,  0,  0,  0,  0,  0,  0,  0,  0,  0,\n",
       "         0]),\n",
       " array([ 9, 12,  9, 10, 12, 20, 19, 12, 13, 22,  9, 10, 12,  2,  5, 23,  0,\n",
       "         0])]"
      ]
     },
     "execution_count": 67,
     "metadata": {},
     "output_type": "execute_result"
    }
   ],
   "source": [
    "encoded_data[0:3]"
   ]
  },
  {
   "cell_type": "code",
   "execution_count": 68,
   "id": "41c1a8d1",
   "metadata": {},
   "outputs": [],
   "source": [
    "X_train, X_test, y_train, y_test = train_test_split(np.array(encoded_data), np.array(encoded_labels), test_size=0.1, random_state=42)\n",
    "\n",
    "final_test = np.array(encoded_test_data)"
   ]
  },
  {
   "cell_type": "code",
   "execution_count": 69,
   "id": "ff433ab9",
   "metadata": {},
   "outputs": [],
   "source": [
    "class Masked_Accuracy(tf.keras.metrics.SparseCategoricalAccuracy):\n",
    "    def __init__(self,):\n",
    "        super(Masked_Accuracy, self).__init__()\n",
    "\n",
    "    def call(self, y_true, y_pred):\n",
    "        total = 0.0\n",
    "        for i in range(len(y_true)):\n",
    "            y_t = y_true[i][y_true[i]!=0]\n",
    "            y_p = tf.argmax(y_pred[i][:len(y_t)], axis = -1)\n",
    "            self.update_state(y_t, y_p)\n",
    "            total += m.result()\n",
    "        return total/tf.cast(len(y_true), tf.float32)"
   ]
  },
  {
   "cell_type": "code",
   "execution_count": 70,
   "id": "a6c01ac8",
   "metadata": {},
   "outputs": [],
   "source": [
    "def masked_accuracy(y_true, y_pred):\n",
    "    total = 0.0\n",
    "    for i in range(len(y_true)):\n",
    "        y_t = y_true[i][y_true[i]!=0]\n",
    "        y_p = tf.argmax(y_pred[i], axis = -1)[:len(y_t)]\n",
    "        m = tf.keras.metrics.Accuracy()\n",
    "        m.update_state(y_t, y_p)\n",
    "        total += m.result()\n",
    "    return total/tf.cast(len(y_true), tf.float32)\n",
    "    "
   ]
  },
  {
   "cell_type": "code",
   "execution_count": 45,
   "id": "58b8b746",
   "metadata": {},
   "outputs": [
    {
     "name": "stderr",
     "output_type": "stream",
     "text": [
      "2022-10-11 17:51:52.504733: I tensorflow/core/platform/cpu_feature_guard.cc:193] This TensorFlow binary is optimized with oneAPI Deep Neural Network Library (oneDNN) to use the following CPU instructions in performance-critical operations:  AVX2 AVX512F AVX512_VNNI FMA\n",
      "To enable them in other operations, rebuild TensorFlow with the appropriate compiler flags.\n",
      "2022-10-11 17:52:00.512842: I tensorflow/core/common_runtime/gpu/gpu_device.cc:1616] Created device /job:localhost/replica:0/task:0/device:GPU:0 with 4562 MB memory:  -> device: 0, name: NVIDIA A100 80GB PCIe, pci bus id: 0000:1c:00.0, compute capability: 8.0\n",
      "2022-10-11 17:52:00.546306: I tensorflow/core/common_runtime/gpu/gpu_device.cc:1616] Created device /job:localhost/replica:0/task:0/device:GPU:1 with 11725 MB memory:  -> device: 1, name: NVIDIA A100 80GB PCIe, pci bus id: 0000:1d:00.0, compute capability: 8.0\n",
      "2022-10-11 17:52:00.546899: I tensorflow/core/common_runtime/gpu/gpu_device.cc:1616] Created device /job:localhost/replica:0/task:0/device:GPU:2 with 13907 MB memory:  -> device: 2, name: NVIDIA RTX A4000, pci bus id: 0000:3d:00.0, compute capability: 8.6\n",
      "2022-10-11 17:52:00.547523: I tensorflow/core/common_runtime/gpu/gpu_device.cc:1616] Created device /job:localhost/replica:0/task:0/device:GPU:3 with 10797 MB memory:  -> device: 3, name: NVIDIA RTX A4000, pci bus id: 0000:3f:00.0, compute capability: 8.6\n",
      "2022-10-11 17:52:00.548097: I tensorflow/core/common_runtime/gpu/gpu_device.cc:1616] Created device /job:localhost/replica:0/task:0/device:GPU:4 with 13907 MB memory:  -> device: 4, name: NVIDIA RTX A4000, pci bus id: 0000:40:00.0, compute capability: 8.6\n",
      "2022-10-11 17:52:00.548685: I tensorflow/core/common_runtime/gpu/gpu_device.cc:1616] Created device /job:localhost/replica:0/task:0/device:GPU:5 with 13907 MB memory:  -> device: 5, name: NVIDIA RTX A4000, pci bus id: 0000:41:00.0, compute capability: 8.6\n"
     ]
    },
    {
     "name": "stdout",
     "output_type": "stream",
     "text": [
      "(None, 18, 16)\n",
      "(None, 18, 256)\n",
      "Model: \"model\"\n",
      "_________________________________________________________________\n",
      " Layer (type)                Output Shape              Param #   \n",
      "=================================================================\n",
      " word_input (InputLayer)     [(None, 18)]              0         \n",
      "                                                                 \n",
      " embedding (Embedding)       (None, 18, 16)            464       \n",
      "                                                                 \n",
      " bidirectional (Bidirectiona  (None, 18, 256)          148480    \n",
      " l)                                                              \n",
      "                                                                 \n",
      " dropout (Dropout)           (None, 18, 256)           0         \n",
      "                                                                 \n",
      " time_distributed (TimeDistr  (None, 18, 3)            771       \n",
      " ibuted)                                                         \n",
      "                                                                 \n",
      "=================================================================\n",
      "Total params: 149,715\n",
      "Trainable params: 149,715\n",
      "Non-trainable params: 0\n",
      "_________________________________________________________________\n",
      "None\n",
      "Epoch 1/10\n"
     ]
    },
    {
     "name": "stderr",
     "output_type": "stream",
     "text": [
      "2022-10-11 17:52:12.573170: I tensorflow/stream_executor/cuda/cuda_dnn.cc:384] Loaded cuDNN version 8200\n",
      "2022-10-11 17:52:16.205656: I tensorflow/stream_executor/cuda/cuda_blas.cc:1614] TensorFloat-32 will be used for the matrix multiplication. This will only be logged once.\n"
     ]
    },
    {
     "name": "stdout",
     "output_type": "stream",
     "text": [
      "289/289 [==============================] - 18s 14ms/step - loss: 0.1989 - sparse_categorical_accuracy: 0.9318 - sparse_categorical_crossentropy: 0.1989 - val_loss: 0.0355 - val_sparse_categorical_accuracy: 0.9881 - val_sparse_categorical_crossentropy: 0.0355\n",
      "Epoch 2/10\n",
      "289/289 [==============================] - 4s 13ms/step - loss: 0.0221 - sparse_categorical_accuracy: 0.9922 - sparse_categorical_crossentropy: 0.0221 - val_loss: 0.0116 - val_sparse_categorical_accuracy: 0.9974 - val_sparse_categorical_crossentropy: 0.0116\n",
      "Epoch 3/10\n",
      "289/289 [==============================] - 4s 13ms/step - loss: 0.0093 - sparse_categorical_accuracy: 0.9977 - sparse_categorical_crossentropy: 0.0093 - val_loss: 0.0057 - val_sparse_categorical_accuracy: 0.9987 - val_sparse_categorical_crossentropy: 0.0057\n",
      "Epoch 4/10\n",
      "289/289 [==============================] - 3s 11ms/step - loss: 0.0051 - sparse_categorical_accuracy: 0.9991 - sparse_categorical_crossentropy: 0.0051 - val_loss: 0.0040 - val_sparse_categorical_accuracy: 0.9990 - val_sparse_categorical_crossentropy: 0.0040\n",
      "Epoch 5/10\n",
      "289/289 [==============================] - 3s 12ms/step - loss: 0.0039 - sparse_categorical_accuracy: 0.9992 - sparse_categorical_crossentropy: 0.0039 - val_loss: 0.0029 - val_sparse_categorical_accuracy: 0.9991 - val_sparse_categorical_crossentropy: 0.0029\n",
      "Epoch 6/10\n",
      "289/289 [==============================] - 4s 13ms/step - loss: 0.0032 - sparse_categorical_accuracy: 0.9993 - sparse_categorical_crossentropy: 0.0032 - val_loss: 0.0022 - val_sparse_categorical_accuracy: 0.9993 - val_sparse_categorical_crossentropy: 0.0022\n",
      "Epoch 7/10\n",
      "289/289 [==============================] - 4s 12ms/step - loss: 0.0027 - sparse_categorical_accuracy: 0.9993 - sparse_categorical_crossentropy: 0.0027 - val_loss: 0.0019 - val_sparse_categorical_accuracy: 0.9994 - val_sparse_categorical_crossentropy: 0.0019\n",
      "Epoch 8/10\n",
      "289/289 [==============================] - 3s 11ms/step - loss: 0.0022 - sparse_categorical_accuracy: 0.9994 - sparse_categorical_crossentropy: 0.0022 - val_loss: 0.0015 - val_sparse_categorical_accuracy: 0.9994 - val_sparse_categorical_crossentropy: 0.0015\n",
      "Epoch 9/10\n",
      "289/289 [==============================] - 3s 11ms/step - loss: 0.0018 - sparse_categorical_accuracy: 0.9995 - sparse_categorical_crossentropy: 0.0018 - val_loss: 0.0017 - val_sparse_categorical_accuracy: 0.9996 - val_sparse_categorical_crossentropy: 0.0017\n",
      "Epoch 10/10\n",
      "289/289 [==============================] - 4s 13ms/step - loss: 0.0017 - sparse_categorical_accuracy: 0.9996 - sparse_categorical_crossentropy: 0.0017 - val_loss: 0.0011 - val_sparse_categorical_accuracy: 0.9998 - val_sparse_categorical_crossentropy: 0.0011\n",
      "The final accuracy in test set is: 99.95%\n"
     ]
    }
   ],
   "source": [
    "input_chars_input = len(char_dict)\n",
    "embedding_vector_length = 16\n",
    "\n",
    "inputs = tf.keras.Input(shape=(X_train.shape[-1]), name=\"word_input\")\n",
    "x = tf.keras.layers.Embedding(input_chars_input, embedding_vector_length, input_length = 1)(inputs)\n",
    "print(x.shape)\n",
    "\n",
    "# x = tf.keras.layers.LSTM(128,return_sequences=True)(x) # 128\n",
    "# x = tf.keras.layers.Dropout(0.2)(x)\n",
    "\n",
    "x = tf.keras.layers.Bidirectional(tf.keras.layers.LSTM(128,return_sequences=True))(x) # 128\n",
    "print(x.shape)\n",
    "x = tf.keras.layers.Dropout(0.2)(x)\n",
    "\n",
    "# dense_layer = tf.keras.layers.Dense(64, activation=\"tanh\", name=\"dense_1\")\n",
    "# x = tf.keras.layers.TimeDistributed(dense_layer)(x)\n",
    "\n",
    "output_layer = tf.keras.layers.Dense(3, activation=\"softmax\", name=\"predictions\")\n",
    "outputs = tf.keras.layers.TimeDistributed(output_layer)(x)\n",
    "\n",
    "model = tf.keras.Model(inputs=inputs, outputs=outputs)\n",
    "\n",
    "\n",
    "# recall = tf.keras.metrics.Recall(class_id=4)\n",
    "scce = tf.keras.metrics.SparseCategoricalCrossentropy()\n",
    "\n",
    "model.compile(loss='sparse_categorical_crossentropy', optimizer='adam', metrics=[Masked_Accuracy(),scce]) # recall, sparse_categorical_cross_entropy\n",
    "print(model.summary())\n",
    "\n",
    "model.fit(X_train, y_train, validation_split =0.2, epochs=10, batch_size=32)\n",
    "\n",
    "scores = model.evaluate(X_test, y_test, verbose=0)\n",
    "print(\"The final accuracy in test set is: %.2f%%\" % (scores[1]*100))\n"
   ]
  },
  {
   "cell_type": "code",
   "execution_count": 46,
   "id": "d45ca7bc",
   "metadata": {},
   "outputs": [
    {
     "name": "stdout",
     "output_type": "stream",
     "text": [
      "The final accuracy in test set is: 99.95%\n"
     ]
    }
   ],
   "source": [
    "scores = model.evaluate(X_test, y_test, verbose=0)\n",
    "print(\"The final accuracy in test set is: %.2f%%\" % (scores[1]*100))\n"
   ]
  },
  {
   "cell_type": "code",
   "execution_count": 151,
   "id": "d62a5411",
   "metadata": {},
   "outputs": [],
   "source": [
    "def decode(y_true, y_pred, inverse_dictionary, sparse = True):\n",
    "    decoded_list = [] \n",
    "    for i in range(len(y_pred)): \n",
    "        temp_len = len(y_true[i][y_true[i]!=0])\n",
    "        temp_prediction = y_pred[i]\n",
    "        if sparse: \n",
    "            temp_prediction = tf.argmax(temp_prediction, axis = -1).numpy()\n",
    "        temp_prediction = temp_prediction[:temp_len]\n",
    "        temp_list = [] \n",
    "        for j in range(len(temp_prediction)):\n",
    "            temp_list.append(inverse_dictionary[temp_prediction[j]])\n",
    "        decoded_list.append(temp_list)\n",
    "    return decoded_list"
   ]
  },
  {
   "cell_type": "code",
   "execution_count": 152,
   "id": "9727418a",
   "metadata": {},
   "outputs": [
    {
     "name": "stdout",
     "output_type": "stream",
     "text": [
      "41/41 [==============================] - 0s 4ms/step\n"
     ]
    }
   ],
   "source": [
    "predicted_test = model.predict(X_test)"
   ]
  },
  {
   "cell_type": "code",
   "execution_count": 153,
   "id": "fbd054d6",
   "metadata": {},
   "outputs": [],
   "source": [
    "decoded_predictions = decode(y_test, predicted_test, invers_label_dict)"
   ]
  },
  {
   "cell_type": "code",
   "execution_count": 154,
   "id": "d0d58d4e",
   "metadata": {},
   "outputs": [],
   "source": [
    "decoded_labels = decode(y_test, y_test, invers_label_dict, sparse = False )"
   ]
  },
  {
   "cell_type": "code",
   "execution_count": 155,
   "id": "a5bc1fd2",
   "metadata": {},
   "outputs": [
    {
     "name": "stdout",
     "output_type": "stream",
     "text": [
      "The predictions for the first sample is as follows: \n",
      " ['B', 'B', 'B', 'B', 'I', 'B', 'B', 'B', 'B']\n",
      "The labels for the first sample is as follows: \n",
      " ['B', 'B', 'B', 'B', 'I', 'B', 'B', 'B', 'B']\n"
     ]
    }
   ],
   "source": [
    "print(\"The predictions for the first sample is as follows: \\n\", decoded_predictions[0])\n",
    "print(\"The labels for the first sample is as follows: \\n\", decoded_labels[0])"
   ]
  },
  {
   "cell_type": "code",
   "execution_count": 156,
   "id": "1849c1ae",
   "metadata": {},
   "outputs": [],
   "source": [
    "def precision(y_true, y_pred, tp_label , sparse = True):\n",
    "    decoded_list = [] \n",
    "    tp = 0 \n",
    "    all_pred_p = 0 \n",
    "    for i in range(len(y_pred)): \n",
    "        temp_len = len(y_true[i][y_true[i]!=0])\n",
    "        temp_prediction = y_pred[i]\n",
    "        if sparse: \n",
    "            temp_prediction = tf.argmax(temp_prediction, axis = -1).numpy()\n",
    "        temp_prediction = temp_prediction[:temp_len]\n",
    "        label = y_test[i][:temp_len]\n",
    "        tp += np.sum(np.multiply(label==tp_label, temp_prediction==tp_label))\n",
    "        all_pred_p += np.where(temp_prediction==tp_label)[0].shape[0]\n",
    "        \n",
    "    return tp/(all_pred_p + np.finfo(float).eps)\n",
    "\n",
    "\n",
    "def recall(y_true, y_pred, tp_label , sparse = True):\n",
    "    decoded_list = [] \n",
    "    tp = 0\n",
    "    all_p = 0 \n",
    "    for i in range(len(y_pred)): \n",
    "        temp_len = len(y_true[i][y_true[i]!=0])\n",
    "        temp_prediction = y_pred[i]\n",
    "        if sparse: \n",
    "            temp_prediction = tf.argmax(temp_prediction, axis = -1).numpy()\n",
    "        temp_prediction = temp_prediction[:temp_len]\n",
    "        label = y_test[i][:temp_len]\n",
    "        tp += np.sum(np.multiply(label==tp_label, temp_prediction==tp_label))\n",
    "        all_p += label[label==tp_label].shape[0]\n",
    "        \n",
    "    return tp/(all_p + np.finfo(float).eps)\n",
    "\n",
    "\n",
    "def f1(y_true, y_pred, tp_label):\n",
    "    '''\n",
    "    y_true: showing the true labels \n",
    "    y_pred: showing the predicted values\n",
    "    tp_label: showing the p\n",
    "        p: precison \n",
    "        r: recall \n",
    "        \n",
    "    '''\n",
    "    p = precision(y_true, y_pred, tp_label)\n",
    "    r = recall(y_true, y_pred, tp_label)\n",
    "    return 2 * ((p * r) / (p + r +  np.finfo(float).eps))"
   ]
  },
  {
   "cell_type": "code",
   "execution_count": 157,
   "id": "29d3017b",
   "metadata": {},
   "outputs": [
    {
     "data": {
      "text/plain": [
       "0.9993114241001564"
      ]
     },
     "execution_count": 157,
     "metadata": {},
     "output_type": "execute_result"
    }
   ],
   "source": [
    "f1(y_test, predicted_test, 1)"
   ]
  },
  {
   "cell_type": "code",
   "execution_count": 158,
   "id": "1d701dd3",
   "metadata": {},
   "outputs": [
    {
     "name": "stdout",
     "output_type": "stream",
     "text": [
      "The f1 score based on \"I\" tags is: 99.93114\n"
     ]
    }
   ],
   "source": [
    "print(\"The f1 score based on \\\"I\\\" tags is: %.5f\"%(f1(y_test, predicted_test, 1)*100))"
   ]
  },
  {
   "cell_type": "markdown",
   "id": "c4ef41ce",
   "metadata": {},
   "source": [
    "## Testing the test file over the current Model"
   ]
  },
  {
   "cell_type": "code",
   "execution_count": 159,
   "id": "354f9100",
   "metadata": {},
   "outputs": [
    {
     "name": "stdout",
     "output_type": "stream",
     "text": [
      "45/45 [==============================] - 0s 4ms/step\n"
     ]
    }
   ],
   "source": [
    "predicted_test = model.predict(final_test)"
   ]
  },
  {
   "cell_type": "code",
   "execution_count": 161,
   "id": "b9a88aaa",
   "metadata": {},
   "outputs": [],
   "source": [
    "decoded_predictions = decode(final_test, predicted_test, invers_label_dict, sparse = True )"
   ]
  },
  {
   "cell_type": "code",
   "execution_count": 162,
   "id": "0d187b2f",
   "metadata": {},
   "outputs": [],
   "source": [
    "def decode_mutations(X, y, X_dict, y_dict): \n",
    "    output = [] \n",
    "    for i in range(len(X)):\n",
    "        temp_str = ''\n",
    "        temp_output = []\n",
    "        temp_X = X[i][X[i]!=0]\n",
    "        for j in range(len(temp_X)):\n",
    "            if y[i][j] == 'B':\n",
    "                temp_str += X_dict[temp_X[j]]\n",
    "                temp_output.append(temp_str)\n",
    "                temp_str = ''\n",
    "            elif y[i][j] == 'I':\n",
    "                temp_output[-1] += X_dict[temp_X[j]]\n",
    "            \n",
    "        output.append('-'.join(temp_output))\n",
    "        \n",
    "    return output "
   ]
  },
  {
   "cell_type": "code",
   "execution_count": 163,
   "id": "04d031b9",
   "metadata": {},
   "outputs": [],
   "source": [
    "output = decode_mutations(final_test,decoded_predictions, invers_char_dict, label_dict)"
   ]
  },
  {
   "cell_type": "code",
   "execution_count": 168,
   "id": "e9c07826",
   "metadata": {},
   "outputs": [],
   "source": [
    "with open(\"supervised.tsv\", 'w') as f: \n",
    "    pass\n",
    "for i in range(len(output)): \n",
    "    with open(\"supervised.tsv\", 'a+') as f: \n",
    "        f.write(test_data[i]+'\\t'+output[i]+'\\n')"
   ]
  },
  {
   "cell_type": "code",
   "execution_count": 170,
   "id": "2e52befd",
   "metadata": {},
   "outputs": [
    {
     "data": {
      "text/plain": [
       "'t-e-l-e-k-o-p-i'"
      ]
     },
     "execution_count": 170,
     "metadata": {},
     "output_type": "execute_result"
    }
   ],
   "source": [
    "output[i]"
   ]
  },
  {
   "cell_type": "code",
   "execution_count": null,
   "id": "b25743fd",
   "metadata": {},
   "outputs": [],
   "source": []
  }
 ],
 "metadata": {
  "kernelspec": {
   "display_name": "Python 3 (ipykernel)",
   "language": "python",
   "name": "python3"
  },
  "language_info": {
   "codemirror_mode": {
    "name": "ipython",
    "version": 3
   },
   "file_extension": ".py",
   "mimetype": "text/x-python",
   "name": "python",
   "nbconvert_exporter": "python",
   "pygments_lexer": "ipython3",
   "version": "3.10.4"
  }
 },
 "nbformat": 4,
 "nbformat_minor": 5
}
