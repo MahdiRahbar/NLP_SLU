{
 "cells": [
  {
   "cell_type": "code",
   "execution_count": 322,
   "id": "b76d3a3e",
   "metadata": {},
   "outputs": [],
   "source": [
    "import os \n",
    "import sys \n",
    "import random \n",
    "import time\n",
    "\n",
    "import numpy as np \n",
    "import pandas as pd \n",
    "import nltk\n",
    "\n",
    "from sklearn.preprocessing import LabelEncoder\n",
    "from sklearn.model_selection import train_test_split\n",
    "import tensorflow as tf\n",
    "random.seed(16)  \n",
    "\n",
    "from sklearn.metrics import precision_score, recall_score,  f1_score, accuracy_score\n",
    "from sklearn import preprocessing"
   ]
  },
  {
   "cell_type": "code",
   "execution_count": 371,
   "id": "7da385d4",
   "metadata": {},
   "outputs": [],
   "source": [
    "with open('train.tsv', 'r') as f: \n",
    "    data = f.readlines()\n",
    "    \n",
    "with open('test.txt', 'r') as f: \n",
    "    test_data = f.readlines()"
   ]
  },
  {
   "cell_type": "code",
   "execution_count": 372,
   "id": "331ae17e",
   "metadata": {},
   "outputs": [],
   "source": [
    "for i in range(len(data)): \n",
    "    data[i] = data[i].split('\\t')\n",
    "    data[i][0] = data[i][0].lower()\n",
    "    data[i][1] = data[i][1].strip('\\n').lower().split('-')\n",
    "    \n",
    "for i in range(len(test_data)): \n",
    "    test_data[i] = test_data[i].strip('\\n').lower()\n",
    "    \n",
    "splitted_test_data = [list(test_data[i]) for i in range(len(test_data))]"
   ]
  },
  {
   "cell_type": "code",
   "execution_count": 163,
   "id": "4dc88e78",
   "metadata": {},
   "outputs": [],
   "source": [
    "label_pool = []\n",
    "char_pool = [] \n",
    "for i in range(len(data)):\n",
    "    label_pool+= data[i][1]\n",
    "    char_pool += list(data[i][0].lower())\n",
    "label_pool = list(set(label_pool))\n",
    "char_pool = list(set(char_pool))"
   ]
  },
  {
   "cell_type": "code",
   "execution_count": 164,
   "id": "720523fc",
   "metadata": {},
   "outputs": [
    {
     "data": {
      "text/plain": [
       "{'an', 'ch', 'en', 'ng', 'on', 'ou', 'oun', 'ui'}"
      ]
     },
     "execution_count": 164,
     "metadata": {},
     "output_type": "execute_result"
    }
   ],
   "source": [
    "set(label_pool).difference(set(char_pool))"
   ]
  },
  {
   "cell_type": "code",
   "execution_count": 165,
   "id": "a757a86a",
   "metadata": {},
   "outputs": [],
   "source": [
    "def create_labels(data_list):\n",
    "    single_tag = 0 \n",
    "    double_tag = 0 \n",
    "    triple_tag = 0\n",
    "    label_list = [] \n",
    "    for i in range(len(data_list)):\n",
    "        temp_labels = []\n",
    "        for j in range(len(data_list[i][1])): \n",
    "            if len(data_list[i][1][j])==1:\n",
    "                temp_labels += ['B']\n",
    "                single_tag += 1 \n",
    "            elif len(data_list[i][1][j])==2:\n",
    "                temp_labels += ['B','I']\n",
    "                double_tag += 1 \n",
    "            elif len(data_list[i][1][j])==3:\n",
    "                temp_labels += ['B','I','I']\n",
    "                triple_tag += 1 \n",
    "        label_list.append(temp_labels)\n",
    "    print(\"The number of single tags are: \", single_tag)\n",
    "    print(\"The number of double tags are: \", double_tag)\n",
    "    print(\"The number of triple tags are: \", triple_tag)\n",
    "    return label_list"
   ]
  },
  {
   "cell_type": "code",
   "execution_count": 166,
   "id": "940c3f39",
   "metadata": {},
   "outputs": [],
   "source": [
    "def split_random_data(input_data,labels, number=650):\n",
    "    X_test = input_data.copy()\n",
    "    y_test = labels.copy()\n",
    "    random_list = sorted(random.sample(range(len(X_test)), number), reverse = True)\n",
    "    X_train = []\n",
    "    y_train = [] \n",
    "    for i in random_list:\n",
    "        X_train.append(X_test[i])\n",
    "        y_train.append(y_test[i])\n",
    "        del X_test[i]\n",
    "        del y_test[i]\n",
    "    return X_train, X_test, y_train, y_test"
   ]
  },
  {
   "cell_type": "code",
   "execution_count": 167,
   "id": "4d31bbed",
   "metadata": {},
   "outputs": [
    {
     "name": "stdout",
     "output_type": "stream",
     "text": [
      "The number of single tags are:  72096\n",
      "The number of double tags are:  7592\n",
      "The number of triple tags are:  8\n"
     ]
    }
   ],
   "source": [
    "labels = create_labels(data)"
   ]
  },
  {
   "cell_type": "code",
   "execution_count": 168,
   "id": "9bd33966",
   "metadata": {},
   "outputs": [],
   "source": [
    "encoded_label_pool = []\n",
    "for e in labels:\n",
    "    encoded_label_pool+= e\n",
    "\n",
    "encoded_label_pool = list(set(encoded_label_pool))"
   ]
  },
  {
   "cell_type": "code",
   "execution_count": 170,
   "id": "cd483e65",
   "metadata": {},
   "outputs": [],
   "source": [
    "label_dict = {}\n",
    "counter = 0 \n",
    "for e in encoded_label_pool: \n",
    "    label_dict[e] = counter \n",
    "    counter += 1 \n",
    "    \n",
    "invers_label_dict = {v:k for k,v in label_dict.items()}"
   ]
  },
  {
   "cell_type": "code",
   "execution_count": 174,
   "id": "9ea11f25",
   "metadata": {},
   "outputs": [],
   "source": [
    "char_dict = {}\n",
    "counter = 0 \n",
    "for e in char_pool: \n",
    "    char_dict[e] = counter \n",
    "    counter += 1 "
   ]
  },
  {
   "cell_type": "code",
   "execution_count": 175,
   "id": "785e2fbb",
   "metadata": {},
   "outputs": [],
   "source": [
    "invers_char_dict = {v:k for k,v in char_dict.items()}\n",
    "char_list = []\n",
    "\n",
    "for e in data: \n",
    "    char_list.append(list(e[0]))"
   ]
  },
  {
   "cell_type": "code",
   "execution_count": 176,
   "id": "eb8ae21f",
   "metadata": {},
   "outputs": [
    {
     "data": {
      "text/plain": [
       "['k', 'o', 'n', 's', 'i', 'l', 't', 'a', 'n']"
      ]
     },
     "execution_count": 176,
     "metadata": {},
     "output_type": "execute_result"
    }
   ],
   "source": [
    "char_list[0]"
   ]
  },
  {
   "cell_type": "code",
   "execution_count": 180,
   "id": "5fa707d2",
   "metadata": {},
   "outputs": [],
   "source": [
    "X_train, X_test, y_train, y_test = split_random_data(char_list ,labels, number=650)"
   ]
  },
  {
   "cell_type": "code",
   "execution_count": 181,
   "id": "b2a6f533",
   "metadata": {},
   "outputs": [],
   "source": [
    "label_freq = [] \n",
    "for e in y_train:\n",
    "    label_freq += e"
   ]
  },
  {
   "cell_type": "code",
   "execution_count": 182,
   "id": "b568da87",
   "metadata": {},
   "outputs": [
    {
     "name": "stdout",
     "output_type": "stream",
     "text": [
      "<FreqDist with 2 samples and 4367 outcomes>\n"
     ]
    }
   ],
   "source": [
    "fd = nltk.FreqDist(tag for tag in label_freq)\n",
    "print(fd)"
   ]
  },
  {
   "cell_type": "code",
   "execution_count": 183,
   "id": "6034a28b",
   "metadata": {},
   "outputs": [],
   "source": [
    "X_y_zipped = [] \n",
    "X_list = []\n",
    "y_list = [] \n",
    "for i in range(len(X_train)):\n",
    "    X_y_zipped += list(zip(X_train[i],y_train[i]))\n",
    "    X_list += X_train[i]\n",
    "    y_list += y_train[i]"
   ]
  },
  {
   "cell_type": "markdown",
   "id": "d22038ce",
   "metadata": {},
   "source": [
    "## HMM and EM\n",
    "These algorithms and their implementations are mostly borrowed from the two following sources: \n",
    "1. https://github.com/kscanne/5755/blob/master/mutations/HMM.ipynb\n",
    "2. https://github.com/kscanne/5755/blob/master/segment/WordAlignment.ipynb\n",
    "\n",
    "The rest of the notebook is implemented without using any specific resources. "
   ]
  },
  {
   "cell_type": "code",
   "execution_count": 184,
   "id": "63e51bac",
   "metadata": {},
   "outputs": [],
   "source": [
    "cfd = nltk.ConditionalFreqDist(X_y_zipped)"
   ]
  },
  {
   "cell_type": "code",
   "execution_count": 185,
   "id": "560fb7a7",
   "metadata": {},
   "outputs": [
    {
     "data": {
      "text/plain": [
       "FreqDist({'B': 54, 'I': 3})"
      ]
     },
     "execution_count": 185,
     "metadata": {},
     "output_type": "execute_result"
    }
   ],
   "source": [
    "cfd['g']"
   ]
  },
  {
   "cell_type": "code",
   "execution_count": 186,
   "id": "90912f33",
   "metadata": {},
   "outputs": [],
   "source": [
    "justwords = nltk.FreqDist(X_list).keys()\n",
    "best_tags = dict((w, cfd[w].max()) for w in justwords)"
   ]
  },
  {
   "cell_type": "code",
   "execution_count": 187,
   "id": "4d884b70",
   "metadata": {},
   "outputs": [
    {
     "name": "stdout",
     "output_type": "stream",
     "text": [
      "Most frequent tag for \"a\": B\n",
      "Most frequent tag for \"g\": B\n"
     ]
    }
   ],
   "source": [
    "print('Most frequent tag for \"a\":', best_tags['a'])\n",
    "print('Most frequent tag for \"g\":', best_tags['g'])"
   ]
  },
  {
   "cell_type": "code",
   "execution_count": 188,
   "id": "106a8578",
   "metadata": {},
   "outputs": [
    {
     "data": {
      "text/plain": [
       "[('a', 'B'),\n",
       " ('v', 'B'),\n",
       " ('a', 'B'),\n",
       " ('n', 'I'),\n",
       " ('t', 'B'),\n",
       " ('o', 'B'),\n",
       " ('u', 'I')]"
      ]
     },
     "execution_count": 188,
     "metadata": {},
     "output_type": "execute_result"
    }
   ],
   "source": [
    "Xy_train[0]"
   ]
  },
  {
   "cell_type": "code",
   "execution_count": 189,
   "id": "56884df3",
   "metadata": {},
   "outputs": [],
   "source": [
    "Xy_train = [] \n",
    "for i in range(len(X_train)):\n",
    "    Xy_train.append(list(zip(X_train[i], y_train[i])))\n",
    "    \n",
    "Xy_test = [] \n",
    "for i in range(len(X_test)):\n",
    "    Xy_test.append(list(zip(X_test[i], y_test[i])))"
   ]
  },
  {
   "cell_type": "code",
   "execution_count": 190,
   "id": "af75be2b",
   "metadata": {},
   "outputs": [],
   "source": [
    "flipped = [(t,w) for sent in Xy_train for (w,t) in X_y_zipped]\n",
    "wordgiventag = nltk.ConditionalFreqDist(flipped)\n"
   ]
  },
  {
   "cell_type": "code",
   "execution_count": 191,
   "id": "077dfb41",
   "metadata": {},
   "outputs": [
    {
     "data": {
      "text/plain": [
       "FreqDist({'n': 193700, 'u': 32500, 'h': 20150, 'g': 1950})"
      ]
     },
     "execution_count": 191,
     "metadata": {},
     "output_type": "execute_result"
    }
   ],
   "source": [
    "wordgiventag['I']"
   ]
  },
  {
   "cell_type": "code",
   "execution_count": 215,
   "id": "f2598a99",
   "metadata": {},
   "outputs": [
    {
     "name": "stdout",
     "output_type": "stream",
     "text": [
      "P(a|B) = 0.12245922208281054\n"
     ]
    }
   ],
   "source": [
    "# this is P(w|t), unsmoothed!\n",
    "def P(w,t):\n",
    "    return wordgiventag[t][w] / wordgiventag[t].N()\n",
    "\n",
    "\n",
    "print('P(a|B) =', P('a','B'))"
   ]
  },
  {
   "cell_type": "code",
   "execution_count": 216,
   "id": "4fdc3e9d",
   "metadata": {},
   "outputs": [
    {
     "data": {
      "text/plain": [
       "[('d', 'B'),\n",
       " ('i', 'B'),\n",
       " ('s', 'B'),\n",
       " ('t', 'B'),\n",
       " ('r', 'B'),\n",
       " ('a', 'B'),\n",
       " ('k', 'B'),\n",
       " ('s', 'B'),\n",
       " ('y', 'B'),\n",
       " ('o', 'B'),\n",
       " ('n', 'I')]"
      ]
     },
     "execution_count": 216,
     "metadata": {},
     "output_type": "execute_result"
    }
   ],
   "source": [
    "Xy_train[0]"
   ]
  },
  {
   "cell_type": "code",
   "execution_count": 237,
   "id": "8dcf45b9",
   "metadata": {},
   "outputs": [],
   "source": [
    "tag_bigrams = [(x,y) for sent in Xy_train for x,y in nltk.bigrams([t for (w,t) in X_y_zipped])]\n"
   ]
  },
  {
   "cell_type": "code",
   "execution_count": 194,
   "id": "9e2ec2f2",
   "metadata": {},
   "outputs": [
    {
     "name": "stdout",
     "output_type": "stream",
     "text": [
      "248300\n",
      "0\n"
     ]
    }
   ],
   "source": [
    "tag_bigram_counts = nltk.ConditionalFreqDist(tag_bigrams)\n",
    "# this is count of noun tags following adjective tags (normal order in English)\n",
    "print(tag_bigram_counts['B']['I'])\n",
    "# this is count of adjective tags following noun tags\n",
    "print(tag_bigram_counts['I']['I'])"
   ]
  },
  {
   "cell_type": "code",
   "execution_count": 195,
   "id": "f30c2583",
   "metadata": {},
   "outputs": [
    {
     "name": "stdout",
     "output_type": "stream",
     "text": [
      "P(\"I\"|\"B\") = 0.09588353413654618\n",
      "P(\"B\"|\"B\") = 0.9041164658634538\n"
     ]
    }
   ],
   "source": [
    "# this is P(t2|t1), unsmoothed again!\n",
    "def tagP(t2,t1):\n",
    "    return tag_bigram_counts[t1][t2] / tag_bigram_counts[t1].N()\n",
    "print('P(\"I\"|\"B\") =',tagP('I','B'))\n",
    "print('P(\"B\"|\"B\") =',tagP('B','B'))"
   ]
  },
  {
   "cell_type": "code",
   "execution_count": 196,
   "id": "d1e29835",
   "metadata": {},
   "outputs": [
    {
     "data": {
      "text/plain": [
       "['B', 'B', 'B', 'B', 'B', 'B', 'B', 'B', 'B', 'B', 'I']"
      ]
     },
     "execution_count": 196,
     "metadata": {},
     "output_type": "execute_result"
    }
   ],
   "source": [
    "y_train[0]"
   ]
  },
  {
   "cell_type": "code",
   "execution_count": 291,
   "id": "12bde914",
   "metadata": {},
   "outputs": [],
   "source": [
    "sentence_start = nltk.FreqDist(e[0] for e in y_train)\n",
    "def initP(t):\n",
    "    return sentence_start[t] / sentence_start.N()"
   ]
  },
  {
   "cell_type": "code",
   "execution_count": 292,
   "id": "4a6b27d1",
   "metadata": {},
   "outputs": [],
   "source": [
    "def argmax(V,tag_list,t,i):\n",
    "    ans=-1\n",
    "    best=None\n",
    "    for s in tag_list:\n",
    "        temp=V[(s,i-1)]*tagP(t,s)\n",
    "        if temp > ans:\n",
    "            ans = temp\n",
    "            best = s\n",
    "    return (best,ans)"
   ]
  },
  {
   "cell_type": "code",
   "execution_count": 293,
   "id": "ba386bbc",
   "metadata": {},
   "outputs": [],
   "source": [
    "def printV(sentence,tag_list,V,B):\n",
    "    for i in range(len(sentence)):\n",
    "        print('i='+str(i)+' ['+sentence[i]+']')\n",
    "        for t in tag_list:\n",
    "            if V[(t,i)] != 0:\n",
    "                toprint='  '+t+'='+str(V[(t,i)])\n",
    "                if i>0:\n",
    "                    toprint += ' (from '+B[(t,i)]+')'\n",
    "                print(toprint)"
   ]
  },
  {
   "cell_type": "code",
   "execution_count": 294,
   "id": "57b9a1df",
   "metadata": {},
   "outputs": [
    {
     "data": {
      "text/plain": [
       "{}"
      ]
     },
     "execution_count": 294,
     "metadata": {},
     "output_type": "execute_result"
    }
   ],
   "source": [
    "test_dict = dict()\n",
    "test_dict.copy()"
   ]
  },
  {
   "cell_type": "code",
   "execution_count": 296,
   "id": "77b161ce",
   "metadata": {},
   "outputs": [],
   "source": [
    "def get_sequence(sentence,tag_list,V,B):\n",
    "    prob_dict = {}\n",
    "    output_list = []\n",
    "    for i in range(len(sentence)-1,-1,-1):\n",
    "        max_val = -1\n",
    "        for t in tag_list:\n",
    "            if max_val < V[(t,i)]: \n",
    "                max_val = V[(t,i)]\n",
    "                temp_tag = t \n",
    "        output_list.insert(0, temp_tag)\n",
    "    return output_list"
   ]
  },
  {
   "cell_type": "code",
   "execution_count": 297,
   "id": "1f332730",
   "metadata": {},
   "outputs": [
    {
     "data": {
      "text/plain": [
       "dict_keys(['B'])"
      ]
     },
     "execution_count": 297,
     "metadata": {},
     "output_type": "execute_result"
    }
   ],
   "source": [
    "sentence_start.keys()"
   ]
  },
  {
   "cell_type": "code",
   "execution_count": 305,
   "id": "a99a9174",
   "metadata": {},
   "outputs": [],
   "source": [
    "def viterbi(sentence):\n",
    "    V = dict()    # keys are (t,i) where t is a tag (row label) and i is position in sentence (column label)\n",
    "    B = dict()    # same keys as V; this stores the \"backpointers\" to remember best tag sequence\n",
    "    tag_list = label_dict.keys()\n",
    "    for t in tag_list:\n",
    "        V[(t,0)] = initP(t)*Probability[(sentence[0],t)]\n",
    "    for i in range(1,len(sentence)):\n",
    "        for t in tag_list:\n",
    "            pair = argmax(V,tag_list,t,i)\n",
    "            B[(t,i)] = pair[0]\n",
    "            V[(t,i)] = pair[1]*Probability[(sentence[i],t)]\n",
    "            \n",
    "    \n",
    "    return get_sequence(sentence,tag_list,V,B)"
   ]
  },
  {
   "cell_type": "code",
   "execution_count": 306,
   "id": "0dfdbeb1",
   "metadata": {},
   "outputs": [
    {
     "data": {
      "text/plain": [
       "['B', 'B', 'I', 'B', 'B', 'I']"
      ]
     },
     "execution_count": 306,
     "metadata": {},
     "output_type": "execute_result"
    }
   ],
   "source": [
    "viterbi(list('touwon')) # T-ou-w-on"
   ]
  },
  {
   "cell_type": "code",
   "execution_count": 328,
   "id": "13a51f7a",
   "metadata": {},
   "outputs": [],
   "source": [
    "def P(w,t):\n",
    "    return wordgiventag[t][w] / (wordgiventag[t].N()+np.finfo(float).eps)\n",
    "\n",
    "Probability = {}\n",
    "for w in char_dict.keys():\n",
    "    for t in ['B', 'I']:\n",
    "        Probability[(w,t)] = P(w,t)\n",
    "        "
   ]
  },
  {
   "cell_type": "code",
   "execution_count": 329,
   "id": "896cc4b1",
   "metadata": {},
   "outputs": [
    {
     "data": {
      "text/plain": [
       "{('k', 'B'): 0.047427854454203264,\n",
       " ('k', 'I'): 0.0,\n",
       " ('d', 'B'): 0.03136762860727729,\n",
       " ('d', 'I'): 0.0,\n",
       " ('s', 'B'): 0.06198243412797993,\n",
       " ('s', 'I'): 0.0,\n",
       " ('f', 'B'): 0.013801756587202008,\n",
       " ('f', 'I'): 0.0,\n",
       " ('m', 'B'): 0.0396486825595985,\n",
       " ('m', 'I'): 0.0,\n",
       " ('c', 'B'): 0.0077791718946047675,\n",
       " ('c', 'I'): 0.0,\n",
       " ('ò', 'B'): 0.01204516938519448,\n",
       " ('ò', 'I'): 0.0,\n",
       " ('r', 'B'): 0.04341279799247177,\n",
       " ('r', 'I'): 0.0,\n",
       " ('à', 'B'): 0.000752823086574655,\n",
       " ('à', 'I'): 0.0,\n",
       " ('b', 'B'): 0.01982434127979925,\n",
       " ('b', 'I'): 0.0,\n",
       " ('y', 'B'): 0.04015056461731493,\n",
       " ('y', 'I'): 0.0,\n",
       " ('o', 'B'): 0.0767879548306148,\n",
       " ('o', 'I'): 0.0,\n",
       " ('v', 'B'): 0.014554579673776663,\n",
       " ('v', 'I'): 0.0,\n",
       " ('u', 'B'): 0.0,\n",
       " ('u', 'I'): 0.13089005235602094,\n",
       " ('è', 'B'): 0.0328732747804266,\n",
       " ('è', 'I'): 0.0,\n",
       " ('l', 'B'): 0.0506900878293601,\n",
       " ('l', 'I'): 0.0,\n",
       " ('e', 'B'): 0.10388958594730238,\n",
       " ('e', 'I'): 0.0,\n",
       " ('w', 'B'): 0.017063989962358847,\n",
       " ('w', 'I'): 0.0,\n",
       " ('z', 'B'): 0.015307402760351318,\n",
       " ('z', 'I'): 0.0,\n",
       " ('i', 'B'): 0.09159347553324969,\n",
       " ('i', 'I'): 0.0,\n",
       " ('a', 'B'): 0.12245922208281054,\n",
       " ('a', 'I'): 0.0,\n",
       " ('j', 'B'): 0.013048933500627352,\n",
       " ('j', 'I'): 0.0,\n",
       " ('g', 'B'): 0.013550815558343789,\n",
       " ('g', 'I'): 0.007853403141361256,\n",
       " ('h', 'B'): 0.0,\n",
       " ('h', 'I'): 0.08115183246073299,\n",
       " ('t', 'B'): 0.06273525721455459,\n",
       " ('t', 'I'): 0.0,\n",
       " ('n', 'B'): 0.03638644918444166,\n",
       " ('n', 'I'): 0.7801047120418848,\n",
       " ('p', 'B'): 0.030865746549560855,\n",
       " ('p', 'I'): 0.0}"
      ]
     },
     "execution_count": 329,
     "metadata": {},
     "output_type": "execute_result"
    }
   ],
   "source": [
    "Probability"
   ]
  },
  {
   "cell_type": "code",
   "execution_count": 331,
   "id": "ee629b04",
   "metadata": {},
   "outputs": [
    {
     "data": {
      "text/plain": [
       "[('k', 'B'),\n",
       " ('o', 'B'),\n",
       " ('n', 'I'),\n",
       " ('s', 'B'),\n",
       " ('i', 'B'),\n",
       " ('l', 'B'),\n",
       " ('t', 'B'),\n",
       " ('a', 'B'),\n",
       " ('n', 'I')]"
      ]
     },
     "execution_count": 331,
     "metadata": {},
     "output_type": "execute_result"
    }
   ],
   "source": [
    "Xy_test[0]"
   ]
  },
  {
   "cell_type": "code",
   "execution_count": 332,
   "id": "e45a2ef7",
   "metadata": {},
   "outputs": [],
   "source": [
    "accuracy_list = []\n",
    "counter = 0\n",
    "total = 0\n",
    "\n",
    "vit_output = [] \n",
    "for i in range(len(Xy_test)): \n",
    "    test_run = Xy_test[i]\n",
    "    # list of tagged words\n",
    "    # list of untagged words\n",
    "    test_tagged_words = [w for (w,t) in Xy_test[i]]\n",
    "    test_tagged_labels = [t for (w,t) in Xy_test[i]]\n",
    "        \n",
    "    output = viterbi(test_tagged_words)\n",
    "    vit_output.append(output)\n",
    "#         total += acc\n",
    "    counter += 1 \n",
    "\n",
    "    \n",
    "# average = total/(counter + np.finfo(float).eps)"
   ]
  },
  {
   "cell_type": "code",
   "execution_count": 333,
   "id": "4591ad00",
   "metadata": {},
   "outputs": [],
   "source": [
    "def compare_sequences(y_test, pred_test):\n",
    "    total = 0 \n",
    "    for i in range(len(y_test)):\n",
    "        temp= 0 \n",
    "        for j in range(len(y_test[i])):\n",
    "#             print(\"y_test len: \", len(y_test[i]),\"      pred_test\" , len(pred_test[i]))\n",
    "            if y_test[i][j] == pred_test[i][j]:\n",
    "                temp += 1 \n",
    "        total += temp/ len(y_test[i])\n",
    "    return total/len(y_test)"
   ]
  },
  {
   "cell_type": "code",
   "execution_count": 334,
   "id": "b458b7ae",
   "metadata": {},
   "outputs": [
    {
     "data": {
      "text/plain": [
       "0.9780201107261873"
      ]
     },
     "execution_count": 334,
     "metadata": {},
     "output_type": "execute_result"
    }
   ],
   "source": [
    "compare_sequences(y_test,vit_output)"
   ]
  },
  {
   "cell_type": "code",
   "execution_count": 335,
   "id": "910eebd5",
   "metadata": {},
   "outputs": [],
   "source": [
    "# one iteration of EM\n",
    "def EM(P, sc, tc, sv, tv):\n",
    "    C = dict()   # keys are pairs (s,t); count of number of alignments\n",
    "    for s in sv:\n",
    "        for t in tv:\n",
    "            C[(s,t)]=0\n",
    "    total = dict()  # keys are source language words\n",
    "    for t in tv:\n",
    "        total[t]=0\n",
    "    for ssent, tsent in zip(sc,tc):\n",
    "        sent_totals=dict()\n",
    "        for s in ssent:\n",
    "            sent_totals[s]=0\n",
    "            for t in tsent:\n",
    "                sent_totals[s] += P[(s,t)]\n",
    "        for s in ssent:\n",
    "            for t in tsent:\n",
    "                C[(s,t)] += P[(s,t)]/sent_totals[s]\n",
    "                total[t] += P[(s,t)]/sent_totals[s]\n",
    "    for t in tv:\n",
    "        for s in sv:\n",
    "            P[(s,t)] = C[(s,t)]/total[t]"
   ]
  },
  {
   "cell_type": "code",
   "execution_count": 336,
   "id": "a5aa8923",
   "metadata": {},
   "outputs": [],
   "source": [
    "for i in range(1000):\n",
    "    EM(Probability,X_test,y_test,char_dict.keys(),label_dict.keys())"
   ]
  },
  {
   "cell_type": "code",
   "execution_count": 379,
   "id": "1ece591e",
   "metadata": {},
   "outputs": [
    {
     "data": {
      "text/plain": [
       "0.9780201107261873"
      ]
     },
     "execution_count": 379,
     "metadata": {},
     "output_type": "execute_result"
    }
   ],
   "source": [
    "accuracy_list = []\n",
    "counter = 0\n",
    "total = 0\n",
    "\n",
    "vit_output = [] \n",
    "for i in range(len(Xy_test)): \n",
    "    test_run = Xy_test[i]\n",
    "    # list of tagged words\n",
    "    # list of untagged words\n",
    "    test_tagged_words = [w for (w,t) in Xy_test[i]]\n",
    "    test_tagged_labels = [t for (w,t) in Xy_test[i]]\n",
    "    \n",
    "   \n",
    "    output = viterbi(test_tagged_words)\n",
    "    vit_output.append(output)\n",
    "#         total += acc\n",
    "    counter += 1 \n",
    "\n",
    "    \n",
    "compare_sequences(y_test,vit_output)"
   ]
  },
  {
   "cell_type": "code",
   "execution_count": 382,
   "id": "124b8c76",
   "metadata": {},
   "outputs": [
    {
     "data": {
      "text/plain": [
       "0.9203539823008848"
      ]
     },
     "execution_count": 382,
     "metadata": {},
     "output_type": "execute_result"
    }
   ],
   "source": [
    "le = preprocessing.LabelEncoder()\n",
    "le.fit(y_list)\n",
    "t_labels = le.transform([e for l in y_test[:100] for e in l])\n",
    "p_labels = le.transform([e for l in vit_output[:100] for e in l])\n",
    "\n",
    "f1_score(t_labels, p_labels)"
   ]
  },
  {
   "cell_type": "code",
   "execution_count": 404,
   "id": "e913207b",
   "metadata": {},
   "outputs": [
    {
     "name": "stdout",
     "output_type": "stream",
     "text": [
      "The f1 score based on \"I\" tags is: 0.92035\n",
      "The f1 score based on \"B\" tags is: 0.99210\n"
     ]
    }
   ],
   "source": [
    "print(\"The f1 score based on \\\"I\\\" tags is: %.5f\"%(f1_score(t_labels, p_labels, pos_label=1)))\n",
    "print(\"The f1 score based on \\\"B\\\" tags is: %.5f\"%(f1_score(t_labels, p_labels, pos_label=0)))"
   ]
  },
  {
   "cell_type": "code",
   "execution_count": 338,
   "id": "13ed70fa",
   "metadata": {},
   "outputs": [
    {
     "data": {
      "text/plain": [
       "{('k', 'B'): 0.048633902882078237,\n",
       " ('k', 'I'): 0.0,\n",
       " ('d', 'B'): 0.03165816659153123,\n",
       " ('d', 'I'): 0.0,\n",
       " ('s', 'B'): 0.06139206493894808,\n",
       " ('s', 'I'): 0.0,\n",
       " ('f', 'B'): 0.017502933069755606,\n",
       " ('f', 'I'): 0.0,\n",
       " ('m', 'B'): 0.035572602677161454,\n",
       " ('m', 'I'): 0.0,\n",
       " ('c', 'B'): 0.0077629725738601295,\n",
       " ('c', 'I'): 0.0,\n",
       " ('ò', 'B'): 0.011901467290654865,\n",
       " ('ò', 'I'): 0.0,\n",
       " ('r', 'B'): 0.04535210293149933,\n",
       " ('r', 'I'): 0.0,\n",
       " ('à', 'B'): 0.0002108787116838056,\n",
       " ('à', 'I'): 0.0,\n",
       " ('b', 'B'): 0.021654607706030657,\n",
       " ('b', 'I'): 0.0,\n",
       " ('y', 'B'): 0.03785272874724236,\n",
       " ('y', 'I'): 0.0,\n",
       " ('o', 'B'): 0.07218641899326382,\n",
       " ('o', 'I'): 0.0,\n",
       " ('v', 'B'): 0.01605314192692934,\n",
       " ('v', 'I'): 0.0,\n",
       " ('u', 'B'): 0.0,\n",
       " ('u', 'I'): 0.1313702850772633,\n",
       " ('è', 'B'): 0.03312113765383799,\n",
       " ('è', 'I'): 0.0,\n",
       " ('l', 'B'): 0.05372135180144822,\n",
       " ('l', 'I'): 0.0,\n",
       " ('e', 'B'): 0.10219709564976791,\n",
       " ('e', 'I'): 0.0,\n",
       " ('w', 'B'): 0.017041635887947423,\n",
       " ('w', 'I'): 0.0,\n",
       " ('z', 'B'): 0.016501259189257506,\n",
       " ('z', 'I'): 0.0,\n",
       " ('i', 'B'): 0.09098098417208447,\n",
       " ('i', 'I'): 0.0,\n",
       " ('a', 'B'): 0.1250906157869492,\n",
       " ('a', 'I'): 0.0,\n",
       " ('j', 'B'): 0.01350941746724369,\n",
       " ('j', 'I'): 0.0,\n",
       " ('g', 'B'): 0.012496348050355861,\n",
       " ('g', 'I'): 0.005501783788458966,\n",
       " ('h', 'B'): 0.0,\n",
       " ('h', 'I'): 0.08338049343804728,\n",
       " ('t', 'B'): 0.061985161315559034,\n",
       " ('t', 'I'): 0.0,\n",
       " ('n', 'B'): 0.03372559884544719,\n",
       " ('n', 'I'): 0.7797474376962261,\n",
       " ('p', 'B'): 0.031895405142175405,\n",
       " ('p', 'I'): 0.0}"
      ]
     },
     "execution_count": 338,
     "metadata": {},
     "output_type": "execute_result"
    }
   ],
   "source": [
    "Probability"
   ]
  },
  {
   "cell_type": "code",
   "execution_count": 363,
   "id": "ffda9a4e",
   "metadata": {},
   "outputs": [],
   "source": [
    "def decode(X, y): \n",
    "    output = [] \n",
    "    for i in range(len(X)):\n",
    "        temp_str = ''\n",
    "        temp_output = []\n",
    "        for j in range(len(X[i])):\n",
    "            if y[i][j] == 'B':\n",
    "                temp_str += X[i][j]\n",
    "                temp_output.append(temp_str)\n",
    "                temp_str = ''\n",
    "            elif y[i][j] == 'I':\n",
    "                if len(temp_output)<1: \n",
    "                    temp_output.append(X[i][j])\n",
    "                else:\n",
    "                    temp_output[-1] += X[i][j]\n",
    "            \n",
    "        output.append('-'.join(temp_output))\n",
    "        \n",
    "    return output "
   ]
  },
  {
   "cell_type": "code",
   "execution_count": 364,
   "id": "a6256b01",
   "metadata": {},
   "outputs": [],
   "source": [
    "output = decode(X_test, vit_output)\n",
    "\n",
    "output[:3]"
   ]
  },
  {
   "cell_type": "code",
   "execution_count": 399,
   "id": "c0be2029",
   "metadata": {},
   "outputs": [],
   "source": [
    "accuracy_list = []\n",
    "counter = 0\n",
    "total = 0\n",
    "\n",
    "vit_output = [] \n",
    "for i in range(len(splitted_test_data)): \n",
    "    test_tagged_words = [w for w in splitted_test_data[i]]\n",
    "    output = viterbi(test_tagged_words)\n",
    "    vit_output.append(output)\n",
    "\n",
    "output = decode(splitted_test_data, vit_output)"
   ]
  },
  {
   "cell_type": "code",
   "execution_count": 401,
   "id": "437f3663",
   "metadata": {},
   "outputs": [],
   "source": [
    "with open(\"semi_supervised.tsv\", 'w') as f: \n",
    "    pass\n",
    "for i in range(len(output)): \n",
    "    with open(\"semi_supervised.tsv\", 'a+') as f: \n",
    "        f.write(test_data[i]+'\\t'+output[i]+'\\n')"
   ]
  },
  {
   "cell_type": "code",
   "execution_count": null,
   "id": "b2a56293",
   "metadata": {},
   "outputs": [],
   "source": []
  }
 ],
 "metadata": {
  "kernelspec": {
   "display_name": "Python 3 (ipykernel)",
   "language": "python",
   "name": "python3"
  },
  "language_info": {
   "codemirror_mode": {
    "name": "ipython",
    "version": 3
   },
   "file_extension": ".py",
   "mimetype": "text/x-python",
   "name": "python",
   "nbconvert_exporter": "python",
   "pygments_lexer": "ipython3",
   "version": "3.10.4"
  }
 },
 "nbformat": 4,
 "nbformat_minor": 5
}
